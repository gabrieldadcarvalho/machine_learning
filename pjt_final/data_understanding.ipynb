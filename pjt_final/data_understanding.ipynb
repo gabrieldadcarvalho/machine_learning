{
  "cells": [
    {
      "cell_type": "markdown",
      "metadata": {
        "id": "Dg6EbMgIFNV4"
      },
      "source": [
        "---\n",
        "<h1 style=\"text-align: center;\">Data Understanding:</h1>\n",
        "<h2 style=\"text-align: center;\">Bank Marketing</h2>\n",
        "\n",
        "*Discentes:*\n",
        "\n",
        "    *   Arthur Bezerra Calado\n",
        "    *   Gabriel D'assumpção de Carvalho\n",
        "    *   Pedro Henrique Sarmento de Paula\n",
        "\n",
        "*Data:* 16/07/2024\n",
        "\n",
        "---\n",
        "---"
      ]
    },
    {
      "cell_type": "markdown",
      "metadata": {},
      "source": [
        "# Introdução"
      ]
    },
    {
      "cell_type": "markdown",
      "metadata": {},
      "source": [
        "Nesta fase do projeto, realizaremos uma análise exploratória detalhada dos dados do dataset \"Bank Marketing\". O objetivo desta análise é entender melhor a estrutura dos dados, identificar padrões, verificar a distribuição das variáveis e descobrir possíveis correlações que possam influenciar os resultados.\n",
        "\n",
        "As variáveis que serão exploradas incluem:"
      ]
    },
    {
      "cell_type": "markdown",
      "metadata": {},
      "source": [
        "| Nome da variável | Papel          | Tipo       | Demográfico           | Descrição                                                                                                                                                                                                                                                                                                                                                                                                                                         | Unidades | Valores ausentes |\n",
        "|------------------|----------------|------------|-----------------------|---------------------------------------------------------------------------------------------------------------------------------------------------------------------------------------------------------------------------------------------------------------------------------------------------------------------------------------------------------------------------------------------------------------------------------------------------|----------|------------------|\n",
        "| idade            | Característica | Inteiro    | Idade                 |                                                                                                                                                                                                                                                                                                                                                                                                                                                   |          | Não              |\n",
        "| trabalho         | Característica | Categórico | Ocupação              | Tipo de emprego (categórico: 'Admin.', 'Blue-collar', 'Entrepreneur', 'Householdant', 'Management', 'Aposentado', 'Autônomo', 'Serviços', 'Estudante', 'Técnico', 'Desempregado', 'Desconhecido')                                                                                                                                                                                                                                                 |          | Não              |\n",
        "| conjugal         | Característica | Categórico | Estado civil          | estado civil (categórico: 'divorciado', 'casado', 'solteiro', 'desconhecido'; nota: 'divorciado' significa divorciado ou viúvo)                                                                                                                                                                                                                                                                                                                   |          | Não              |\n",
        "| educação         | Característica | Categórico | Nível de escolaridade | (categórico: 'basic.4y', 'basic.6y', 'basic.9y', 'high.school', 'analfabeto', 'professional.course', 'university.degree', 'unknown')                                                                                                                                                                                                                                                                                                              |          | Não              |\n",
        "| inadimplência    | Característica | Binário    |                       | tem crédito inadimplente?                                                                                                                                                                                                                                                                                                                                                                                                                         |          | Não              |\n",
        "| equilíbrio       | Característica | Inteiro    |                       | saldo médio anual                                                                                                                                                                                                                                                                                                                                                                                                                                 | Euros    | Não              |\n",
        "| habitação        | Característica | Binário    |                       | Tem crédito habitação?                                                                                                                                                                                                                                                                                                                                                                                                                            |          | Não              |\n",
        "| empréstimo       | Característica | Binário    |                       | Tem empréstimo pessoal?                                                                                                                                                                                                                                                                                                                                                                                                                           |          | Não              |\n",
        "| contato          | Característica | Categórico |                       | tipo de comunicação de contato (categórico: 'celular', 'telefone')                                                                                                                                                                                                                                                                                                                                                                                |          | Sim              |\n",
        "| day_of_week      | Característica | Data       |                       | último dia de contato da semana                                                                                                                                                                                                                                                                                                                                                                                                                   |          | Não              |\n",
        "| mês              | Característica | Data       |                       | último mês do ano de contato (categórico: 'jan', 'feb', 'mar', ..., 'nov', 'dec')                                                                                                                                                                                                                                                                                                                                                                 |          | Não              |\n",
        "| duração          | Característica | Inteiro    |                       | Duração do último contato, em segundos (numérico). Observação importante: esse atributo afeta fortemente o destino de saída (por exemplo, se duration=0 e y='no'). No entanto, a duração não é conhecida antes de uma chamada ser realizada. Além disso, após o fim da chamada y é obviamente conhecido. Assim, esse insumo só deve ser incluído para fins de benchmark e deve ser descartado se a intenção for ter um modelo preditivo realista. |          | Não              |\n",
        "| campanha         | Característica | Inteiro    |                       | número de contatos realizados durante esta campanha e para este cliente (numérico, inclui último contato)                                                                                                                                                                                                                                                                                                                                         |          | Não              |\n",
        "| pdays            | Característica | Inteiro    |                       | número de dias que se passaram após o cliente ter sido contatado pela última vez a partir de uma campanha anterior (numérico; -1 significa que o cliente não foi contatado anteriormente)                                                                                                                                                                                                                                                         |          | Sim              |\n",
        "| anterior         | Característica | Inteiro    |                       | número de contatos realizados antes desta campanha e para este cliente                                                                                                                                                                                                                                                                                                                                                                            |          | Não              |\n",
        "| presultado       | Característica | Categórico |                       | resultado da campanha de marketing anterior (categórico: 'fracasso', 'inexistente', 'sucesso')                                                                                                                                                                                                                                                                                                                                                    |          | Sim              |\n",
        "| y                | Alvo           | Binário    |                       | O cliente subscreveu um depósito a prazo?                                                                                                                                                                                                                                                                                                                                                                                                         |          |                  |\n"
      ]
    },
    {
      "cell_type": "markdown",
      "metadata": {},
      "source": [
        "A análise exploratória incluirá a avaliação de dados faltantes, a identificação de outliers e a verificação de possíveis dados duplicados. Esta etapa é crucial para garantir a qualidade dos dados e a integridade das análises subsequentes."
      ]
    },
    {
      "cell_type": "markdown",
      "metadata": {
        "id": "UP6vkE_oFNV9"
      },
      "source": [
        "# Biblioteca utilizadas\n",
        "\n",
        "1) pandas -> manipulação de dados;\n",
        "\n",
        "2) numpy -> cálculos estatísticos;\n",
        "\n",
        "4) matplotlib -> gráficos;\n",
        "\n",
        "5) seaborn -> gráficos;\n",
        "\n",
        "6) scipy -> transformação de variável;\n",
        "\n",
        "7) warnings -> remoção de avisos"
      ]
    },
    {
      "cell_type": "code",
      "execution_count": null,
      "metadata": {
        "id": "e0Rcue9QFNV9"
      },
      "outputs": [],
      "source": [
        "# Instalação das bibliotecas\n",
        "\n",
        "# %pip install pandas\n",
        "\n",
        "# %pip install ucimlrepo\n",
        "\n",
        "# %pip install numpy\n",
        "\n",
        "# %pip install scipy\n",
        "\n",
        "# %pip install matplotlib\n",
        "\n",
        "# %pip install seaborn"
      ]
    },
    {
      "cell_type": "code",
      "execution_count": 3,
      "metadata": {
        "colab": {
          "background_save": true
        },
        "id": "BiQ0Pz44FNV_"
      },
      "outputs": [],
      "source": [
        "# Importação das bibliotecas\n",
        "\n",
        "import pandas as pd\n",
        "\n",
        "import numpy as np\n",
        "\n",
        "from scipy.stats import boxcox\n",
        "\n",
        "import matplotlib.pyplot as plt\n",
        "\n",
        "import seaborn as sns\n",
        "\n",
        "import warnings\n",
        "\n",
        "from ucimlrepo import fetch_ucirepo \n",
        "\n"
      ]
    },
    {
      "cell_type": "code",
      "execution_count": 4,
      "metadata": {
        "id": "GOLvsGNdsZjc"
      },
      "outputs": [],
      "source": [
        "# Desativa todos os avisos\n",
        "warnings.filterwarnings(\"ignore\")\n"
      ]
    },
    {
      "cell_type": "code",
      "execution_count": 5,
      "metadata": {
        "id": "p7GFYocOFNV_"
      },
      "outputs": [],
      "source": [
        "# Baixando os dados\n",
        "bank_marketing = fetch_ucirepo(id=222)"
      ]
    },
    {
      "cell_type": "code",
      "execution_count": 6,
      "metadata": {
        "id": "mVpoip2hFNWA"
      },
      "outputs": [],
      "source": [
        "# data (as pandas dataframes) \n",
        "X = bank_marketing.data.features \n",
        "y = bank_marketing.data.targets "
      ]
    },
    {
      "cell_type": "code",
      "execution_count": 7,
      "metadata": {
        "id": "jssatQBzGeyB"
      },
      "outputs": [],
      "source": [
        "# Criando variável que vai ter as variáveis transformada\n",
        "Xt = X"
      ]
    },
    {
      "cell_type": "markdown",
      "metadata": {
        "id": "hOtuNMAfFNV9"
      },
      "source": [
        "# Análise Exploratória"
      ]
    },
    {
      "cell_type": "code",
      "execution_count": 8,
      "metadata": {
        "colab": {
          "base_uri": "https://localhost:8080/"
        },
        "id": "mJTpIYx_FNWB",
        "outputId": "76fca203-e301-4b7f-d788-b5ca084e7b1e"
      },
      "outputs": [
        {
          "data": {
            "text/html": [
              "<div>\n",
              "<style scoped>\n",
              "    .dataframe tbody tr th:only-of-type {\n",
              "        vertical-align: middle;\n",
              "    }\n",
              "\n",
              "    .dataframe tbody tr th {\n",
              "        vertical-align: top;\n",
              "    }\n",
              "\n",
              "    .dataframe thead th {\n",
              "        text-align: right;\n",
              "    }\n",
              "</style>\n",
              "<table border=\"1\" class=\"dataframe\">\n",
              "  <thead>\n",
              "    <tr style=\"text-align: right;\">\n",
              "      <th></th>\n",
              "      <th>age</th>\n",
              "      <th>job</th>\n",
              "      <th>marital</th>\n",
              "      <th>education</th>\n",
              "      <th>default</th>\n",
              "      <th>balance</th>\n",
              "      <th>housing</th>\n",
              "      <th>loan</th>\n",
              "      <th>contact</th>\n",
              "      <th>day_of_week</th>\n",
              "      <th>month</th>\n",
              "      <th>duration</th>\n",
              "      <th>campaign</th>\n",
              "      <th>pdays</th>\n",
              "      <th>previous</th>\n",
              "      <th>poutcome</th>\n",
              "    </tr>\n",
              "  </thead>\n",
              "  <tbody>\n",
              "    <tr>\n",
              "      <th>0</th>\n",
              "      <td>58</td>\n",
              "      <td>management</td>\n",
              "      <td>married</td>\n",
              "      <td>tertiary</td>\n",
              "      <td>no</td>\n",
              "      <td>2143</td>\n",
              "      <td>yes</td>\n",
              "      <td>no</td>\n",
              "      <td>NaN</td>\n",
              "      <td>5</td>\n",
              "      <td>may</td>\n",
              "      <td>261</td>\n",
              "      <td>1</td>\n",
              "      <td>-1</td>\n",
              "      <td>0</td>\n",
              "      <td>NaN</td>\n",
              "    </tr>\n",
              "    <tr>\n",
              "      <th>1</th>\n",
              "      <td>44</td>\n",
              "      <td>technician</td>\n",
              "      <td>single</td>\n",
              "      <td>secondary</td>\n",
              "      <td>no</td>\n",
              "      <td>29</td>\n",
              "      <td>yes</td>\n",
              "      <td>no</td>\n",
              "      <td>NaN</td>\n",
              "      <td>5</td>\n",
              "      <td>may</td>\n",
              "      <td>151</td>\n",
              "      <td>1</td>\n",
              "      <td>-1</td>\n",
              "      <td>0</td>\n",
              "      <td>NaN</td>\n",
              "    </tr>\n",
              "    <tr>\n",
              "      <th>2</th>\n",
              "      <td>33</td>\n",
              "      <td>entrepreneur</td>\n",
              "      <td>married</td>\n",
              "      <td>secondary</td>\n",
              "      <td>no</td>\n",
              "      <td>2</td>\n",
              "      <td>yes</td>\n",
              "      <td>yes</td>\n",
              "      <td>NaN</td>\n",
              "      <td>5</td>\n",
              "      <td>may</td>\n",
              "      <td>76</td>\n",
              "      <td>1</td>\n",
              "      <td>-1</td>\n",
              "      <td>0</td>\n",
              "      <td>NaN</td>\n",
              "    </tr>\n",
              "    <tr>\n",
              "      <th>3</th>\n",
              "      <td>47</td>\n",
              "      <td>blue-collar</td>\n",
              "      <td>married</td>\n",
              "      <td>NaN</td>\n",
              "      <td>no</td>\n",
              "      <td>1506</td>\n",
              "      <td>yes</td>\n",
              "      <td>no</td>\n",
              "      <td>NaN</td>\n",
              "      <td>5</td>\n",
              "      <td>may</td>\n",
              "      <td>92</td>\n",
              "      <td>1</td>\n",
              "      <td>-1</td>\n",
              "      <td>0</td>\n",
              "      <td>NaN</td>\n",
              "    </tr>\n",
              "    <tr>\n",
              "      <th>4</th>\n",
              "      <td>33</td>\n",
              "      <td>NaN</td>\n",
              "      <td>single</td>\n",
              "      <td>NaN</td>\n",
              "      <td>no</td>\n",
              "      <td>1</td>\n",
              "      <td>no</td>\n",
              "      <td>no</td>\n",
              "      <td>NaN</td>\n",
              "      <td>5</td>\n",
              "      <td>may</td>\n",
              "      <td>198</td>\n",
              "      <td>1</td>\n",
              "      <td>-1</td>\n",
              "      <td>0</td>\n",
              "      <td>NaN</td>\n",
              "    </tr>\n",
              "  </tbody>\n",
              "</table>\n",
              "</div>"
            ],
            "text/plain": [
              "   age           job  marital  education default  balance housing loan  \\\n",
              "0   58    management  married   tertiary      no     2143     yes   no   \n",
              "1   44    technician   single  secondary      no       29     yes   no   \n",
              "2   33  entrepreneur  married  secondary      no        2     yes  yes   \n",
              "3   47   blue-collar  married        NaN      no     1506     yes   no   \n",
              "4   33           NaN   single        NaN      no        1      no   no   \n",
              "\n",
              "  contact  day_of_week month  duration  campaign  pdays  previous poutcome  \n",
              "0     NaN            5   may       261         1     -1         0      NaN  \n",
              "1     NaN            5   may       151         1     -1         0      NaN  \n",
              "2     NaN            5   may        76         1     -1         0      NaN  \n",
              "3     NaN            5   may        92         1     -1         0      NaN  \n",
              "4     NaN            5   may       198         1     -1         0      NaN  "
            ]
          },
          "execution_count": 8,
          "metadata": {},
          "output_type": "execute_result"
        }
      ],
      "source": [
        "# Verificando as 5 primeiras linhas de x e y\n",
        "X.head()"
      ]
    },
    {
      "cell_type": "code",
      "execution_count": 12,
      "metadata": {
        "colab": {
          "base_uri": "https://localhost:8080/"
        },
        "id": "nXf2KktYFNWC",
        "outputId": "0ce30f88-7143-4373-9aa4-1a92299dafcc"
      },
      "outputs": [
        {
          "data": {
            "text/plain": [
              "45211"
            ]
          },
          "execution_count": 12,
          "metadata": {},
          "output_type": "execute_result"
        }
      ],
      "source": [
        "y.head()"
      ]
    },
    {
      "cell_type": "markdown",
      "metadata": {},
      "source": [
        "## Dados Faltantes"
      ]
    },
    {
      "cell_type": "code",
      "execution_count": 13,
      "metadata": {},
      "outputs": [
        {
          "data": {
            "text/html": [
              "<div>\n",
              "<style scoped>\n",
              "    .dataframe tbody tr th:only-of-type {\n",
              "        vertical-align: middle;\n",
              "    }\n",
              "\n",
              "    .dataframe tbody tr th {\n",
              "        vertical-align: top;\n",
              "    }\n",
              "\n",
              "    .dataframe thead th {\n",
              "        text-align: right;\n",
              "    }\n",
              "</style>\n",
              "<table border=\"1\" class=\"dataframe\">\n",
              "  <thead>\n",
              "    <tr style=\"text-align: right;\">\n",
              "      <th></th>\n",
              "      <th>Nº Observações</th>\n",
              "      <th>Observações Faltantes</th>\n",
              "    </tr>\n",
              "  </thead>\n",
              "  <tbody>\n",
              "    <tr>\n",
              "      <th>age</th>\n",
              "      <td>45211</td>\n",
              "      <td>0</td>\n",
              "    </tr>\n",
              "    <tr>\n",
              "      <th>job</th>\n",
              "      <td>44923</td>\n",
              "      <td>288</td>\n",
              "    </tr>\n",
              "    <tr>\n",
              "      <th>marital</th>\n",
              "      <td>45211</td>\n",
              "      <td>0</td>\n",
              "    </tr>\n",
              "    <tr>\n",
              "      <th>education</th>\n",
              "      <td>43354</td>\n",
              "      <td>1857</td>\n",
              "    </tr>\n",
              "    <tr>\n",
              "      <th>default</th>\n",
              "      <td>45211</td>\n",
              "      <td>0</td>\n",
              "    </tr>\n",
              "    <tr>\n",
              "      <th>balance</th>\n",
              "      <td>45211</td>\n",
              "      <td>0</td>\n",
              "    </tr>\n",
              "    <tr>\n",
              "      <th>housing</th>\n",
              "      <td>45211</td>\n",
              "      <td>0</td>\n",
              "    </tr>\n",
              "    <tr>\n",
              "      <th>loan</th>\n",
              "      <td>45211</td>\n",
              "      <td>0</td>\n",
              "    </tr>\n",
              "    <tr>\n",
              "      <th>contact</th>\n",
              "      <td>32191</td>\n",
              "      <td>13020</td>\n",
              "    </tr>\n",
              "    <tr>\n",
              "      <th>day_of_week</th>\n",
              "      <td>45211</td>\n",
              "      <td>0</td>\n",
              "    </tr>\n",
              "    <tr>\n",
              "      <th>month</th>\n",
              "      <td>45211</td>\n",
              "      <td>0</td>\n",
              "    </tr>\n",
              "    <tr>\n",
              "      <th>duration</th>\n",
              "      <td>45211</td>\n",
              "      <td>0</td>\n",
              "    </tr>\n",
              "    <tr>\n",
              "      <th>campaign</th>\n",
              "      <td>45211</td>\n",
              "      <td>0</td>\n",
              "    </tr>\n",
              "    <tr>\n",
              "      <th>pdays</th>\n",
              "      <td>45211</td>\n",
              "      <td>0</td>\n",
              "    </tr>\n",
              "    <tr>\n",
              "      <th>previous</th>\n",
              "      <td>45211</td>\n",
              "      <td>0</td>\n",
              "    </tr>\n",
              "    <tr>\n",
              "      <th>poutcome</th>\n",
              "      <td>8252</td>\n",
              "      <td>36959</td>\n",
              "    </tr>\n",
              "  </tbody>\n",
              "</table>\n",
              "</div>"
            ],
            "text/plain": [
              "             Nº Observações  Observações Faltantes\n",
              "age                   45211                      0\n",
              "job                   44923                    288\n",
              "marital               45211                      0\n",
              "education             43354                   1857\n",
              "default               45211                      0\n",
              "balance               45211                      0\n",
              "housing               45211                      0\n",
              "loan                  45211                      0\n",
              "contact               32191                  13020\n",
              "day_of_week           45211                      0\n",
              "month                 45211                      0\n",
              "duration              45211                      0\n",
              "campaign              45211                      0\n",
              "pdays                 45211                      0\n",
              "previous              45211                      0\n",
              "poutcome               8252                  36959"
            ]
          },
          "execution_count": 13,
          "metadata": {},
          "output_type": "execute_result"
        }
      ],
      "source": [
        "# Verificando dados faltantes\n",
        "len_x = {}\n",
        "total_rows = len(X)\n",
        "for n in X.columns:\n",
        "    len_x[n] = [len(X[n].dropna())]\n",
        "    len_x[n].append(total_rows - len_x[n][0])\n",
        "len_x = pd.DataFrame.from_dict(len_x, orient='index', columns=['Nº Observações', 'Observações Faltantes'])\n",
        "len_x"
      ]
    },
    {
      "cell_type": "markdown",
      "metadata": {},
      "source": [
        "Podemos observar na tabela acima o número de observações para cada característica e a quantidade de dados faltantes. O banco de dados possui um total de 45.211 observações. As variáveis job (trabalho), education (educação), contact (contato) e poutcome (resultado da campanha anterior) apresentam 288, 1.857, 13.020 e 36.959 dados faltantes, respectivamente."
      ]
    },
    {
      "cell_type": "markdown",
      "metadata": {
        "id": "_J79llE7FNWC"
      },
      "source": [
        "## Variáveis Explicativas\n",
        "Vamos realizar uma análise exploratória das variáveis explicativas do conjunto de dados. Abaixo estão as estatísticas descritivas e visualizações para cada variável."
      ]
    },
    {
      "cell_type": "code",
      "execution_count": 14,
      "metadata": {
        "colab": {
          "base_uri": "https://localhost:8080/"
        },
        "id": "wGED9b2zFNWC",
        "outputId": "3fad911d-498b-4e24-f6c3-931c26998881"
      },
      "outputs": [],
      "source": [
        "pd.options.display.float_format = \"{:.4f}\".format"
      ]
    },
    {
      "cell_type": "markdown",
      "metadata": {
        "id": "y_OkaSYFFNWD"
      },
      "source": [
        "### Idade"
      ]
    },
    {
      "cell_type": "code",
      "execution_count": 16,
      "metadata": {
        "colab": {
          "base_uri": "https://localhost:8080/"
        },
        "id": "GEPcGBhhsZjg",
        "outputId": "a28220b1-85b7-46a4-bd84-62dadbda611a"
      },
      "outputs": [
        {
          "data": {
            "text/plain": [
              "count   45211.0000\n",
              "mean       40.9362\n",
              "std        10.6188\n",
              "min        18.0000\n",
              "25%        33.0000\n",
              "50%        39.0000\n",
              "75%        48.0000\n",
              "max        95.0000\n",
              "Name: age, dtype: float64"
            ]
          },
          "execution_count": 16,
          "metadata": {},
          "output_type": "execute_result"
        }
      ],
      "source": [
        "X[\"age\"].describe()"
      ]
    },
    {
      "cell_type": "code",
      "execution_count": 17,
      "metadata": {
        "colab": {
          "base_uri": "https://localhost:8080/"
        },
        "id": "I9sA1pRwsZjg",
        "outputId": "fb617370-ebca-4655-9f81-5f9c98e476e7"
      },
      "outputs": [
        {
          "data": {
            "text/plain": [
              "0    32\n",
              "Name: age, dtype: int64"
            ]
          },
          "execution_count": 17,
          "metadata": {},
          "output_type": "execute_result"
        }
      ],
      "source": [
        "X[\"age\"].mode()"
      ]
    },
    {
      "cell_type": "markdown",
      "metadata": {
        "id": "e-I0eF6rsZjh"
      },
      "source": [
        "Ao analisarmos em detalhes os dados relativos à idade dos clientes, percebemos que a média das idades é próxima de 41, variando entre o mínimo de 18 e um máximo de 95. Além disso, podemos observar um desvio padrão de aproximadamente 11, o que indica uma dispersão significativa dos valores. Portanto, em média, os clientes têm idades compreendidas entre 30 e 51 anos.\n",
        "\n",
        "É importante notar que a média de 41 anos supera tanto a mediana de 39 quanto a moda de 32, sugerindo uma assimetria positiva nos dados devido à presença de idades mais altas no terceiro quartil, que é de 48 anos, próximo do valor máximo."
      ]
    },
    {
      "cell_type": "code",
      "execution_count": 18,
      "metadata": {
        "colab": {
          "base_uri": "https://localhost:8080/"
        },
        "id": "Qmp3BGGfFNWE",
        "outputId": "03df17cf-66f4-44ca-8923-90290fd8449b"
      },
      "outputs": [
        {
          "data": {
            "image/png": "[encoded data removed]",
            "text/plain": [
              "<Figure size 1200x600 with 2 Axes>"
            ]
          },
          "metadata": {},
          "output_type": "display_data"
        }
      ],
      "source": [
        "# Criação do grafico histograma para a variável 'fixed acidity'\n",
        "plt.figure(figsize=(12, 6))\n",
        "plt.subplot(1, 2, 1)\n",
        "sns.histplot(X[\"age\"], kde=True)\n",
        "plt.title(\"Distribuição da Idade dos Clientes\")\n",
        "plt.xlabel(\"Idade\")\n",
        "plt.ylabel(\"Frequência\")\n",
        "plt.subplot(1, 2, 2)\n",
        "sns.boxplot(X[\"age\"], orient='h', notch=True, showcaps=False,\n",
        "            boxprops={\"facecolor\": (0, .5, .7, .5)},\n",
        "            medianprops={\"color\": \"r\", \"linewidth\": 1})\n",
        "plt.title(\"Boxplot da Idade dos Clientes\")\n",
        "plt.xlabel(\"Idade\")\n",
        "plt.show()"
      ]
    },
    {
      "cell_type": "markdown",
      "metadata": {
        "id": "V1cxU1HQFNWE"
      },
      "source": [
        "Como mencionado anteriormente, é possível observar a assimetria positiva nas idades devido à presença de uma pequena parte dos clientes que são pessoas idosas. Após analisar todas as variáveis, vamos propor algumas transformações para tentar melhorar a qualidade dos dados, reduzindo assimetrias e outliers."
      ]
    },
    {
      "cell_type": "markdown",
      "metadata": {
        "id": "z6pE6rEbFNWE"
      },
      "source": [
        "### Trabalho"
      ]
    },
    {
      "cell_type": "markdown",
      "metadata": {},
      "source": [
        "A variável que indica o trabalho exercido por cada cliente é do tipo categórica, podendo ser:\n",
        "\n",
        "    Admin.: Administrativo\n",
        "    Blue-collar: Trabalhador manual\n",
        "    Entrepreneur: Empresário\n",
        "    Householdant: Trabalhador doméstico\n",
        "    Management: Gerência\n",
        "    Retired: Aposentado\n",
        "    Self-employed: Autônomo\n",
        "    Services: Serviços gerais\n",
        "    student: Estudante\n",
        "    Technician: Técnico\n",
        "    Unemployed: Desempregado\n",
        "    Unknown: Desconhecido\n",
        "\n",
        "Para verificar essa variável, vamos estar analisando a quantidade da frequência de cada classe."
      ]
    },
    {
      "cell_type": "code",
      "execution_count": 36,
      "metadata": {
        "colab": {
          "base_uri": "https://localhost:8080/"
        },
        "id": "uJQKQeVCFNWF",
        "outputId": "78b7df12-23ad-4b23-a8bc-247ca7bbfb3a"
      },
      "outputs": [
        {
          "data": {
            "text/plain": [
              "job\n",
              "admin.          11.5108\n",
              "blue-collar     21.6637\n",
              "entrepreneur     3.3101\n",
              "housemaid        2.7603\n",
              "management      21.0538\n",
              "retired          5.0397\n",
              "self-employed    3.5149\n",
              "services         9.2469\n",
              "student          2.0880\n",
              "technician      16.9112\n",
              "unemployed       2.9005\n",
              "Name: count, dtype: float64"
            ]
          },
          "execution_count": 36,
          "metadata": {},
          "output_type": "execute_result"
        }
      ],
      "source": [
        "job_counts = X['job'].value_counts().sort_index()\n",
        "job_counts*100/44923"
      ]
    },
    {
      "cell_type": "code",
      "execution_count": 38,
      "metadata": {
        "colab": {
          "base_uri": "https://localhost:8080/"
        },
        "id": "K-3JjutVFNWF",
        "outputId": "d4f28a06-2fd2-48d2-bab8-0a692059dc86"
      },
      "outputs": [
        {
          "data": {
            "image/png": "[encoded data removed]",
            "text/plain": [
              "<Figure size 640x480 with 1 Axes>"
            ]
          },
          "metadata": {},
          "output_type": "display_data"
        }
      ],
      "source": [
        "sns.barplot(x=job_counts.index, y=job_counts.values, palette='viridis')\n",
        "plt.title('Frequência dos Trabalhos dos Clientes')\n",
        "plt.xlabel('Trabalho')\n",
        "plt.ylabel('Número de Clientes')\n",
        "plt.xticks(rotation=90) \n",
        "plt.tight_layout()\n",
        "plt.show()"
      ]
    },
    {
      "cell_type": "markdown",
      "metadata": {},
      "source": [
        "Podemos observar tanto na lista acima quanto no gráfico que a base de dados possui mais clientes que desempenham papéis de administradores, trabalhadores manuais, gerência e técnicos, representando 11,51%, 21,6%, 21,05% e 16,91% das 44.923 observações da variável trabalho. É importante lembrar que esta variável possui 1.303 observações classificadas como trabalho desconhecido, além de 288 observações faltantes.\n",
        "\n",
        "Devido aos problemas como desequilíbrio entre as classes e dados faltantes, na sessão de transformações serão abordados alguns mecanismos para o tratamento dessa variável."
      ]
    }
  ],
  "metadata": {
    "colab": {
      "collapsed_sections": [
        "z_CX6JLrFNV7",
        "hOtuNMAfFNV9"
      ],
      "provenance": [],
      "toc_visible": true
    },
    "kernelspec": {
      "display_name": "liga_quant",
      "language": "python",
      "name": "python3"
    },
    "language_info": {
      "codemirror_mode": {
        "name": "ipython",
        "version": 3
      },
      "file_extension": ".py",
      "mimetype": "text/x-python",
      "name": "python",
      "nbconvert_exporter": "python",
      "pygments_lexer": "ipython3",
      "version": "3.11.9"
    }
  },
  "nbformat": 4,
  "nbformat_minor": 0
}
