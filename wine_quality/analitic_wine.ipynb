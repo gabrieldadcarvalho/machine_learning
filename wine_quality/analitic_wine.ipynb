{
  "cells": [
    {
      "cell_type": "markdown",
      "metadata": {
        "id": "Dg6EbMgIFNV4"
      },
      "source": [
        "---\n",
        "<h1 style=\"text-align: center;\">Projeto AMG:</h1>\n",
        "<h2 style=\"text-align: center;\">Análise de Qualidade de Vinhos</h2>\n",
        "\n",
        "*Discentes:*\n",
        "\n",
        "    *   Gabriel D'assumpção de Carvalho\n",
        "    *   Arthur Bezerra Calado\n",
        "    *\n",
        "    *\n",
        "\n",
        "*Date:* 08/05/2024\n",
        "\n",
        "---\n",
        "---"
      ]
    },
    {
      "cell_type": "markdown",
      "metadata": {
        "id": "z_CX6JLrFNV7"
      },
      "source": [
        "# Introdução\n",
        "\n",
        "O seguinte relatório vai estar utilizando a ([base de dados de vinho](https://archive.ics.uci.edu/dataset/186/wine+quality)), a qual é multivariada e contém diversas variáveis que descrevem as características físico-químicas de vinhos brancos e tintos, bem como sua qualidade atribuída por especialistas. As variáveis incluem medidas como acidez fixa, acidez volátil, teor alcoólico, entre outras.\n",
        "\n",
        "| **Nome da variável**       | **Papel**          | **Tipo**       | **Descrição**                 | **Valores ausentes** |\n",
        "|------------------------|----------------|------------|---------------------------|------------------|\n",
        "| acidez fixa          | Característica | Contínuo   |                           | Não              |\n",
        "| acidez volátil       | Característica | Contínuo   |                           | Não              |\n",
        "| ácido cítrico            | Característica | Contínuo   |                           | Não              |\n",
        "| açúcar residual         | Característica | Contínuo   |                           | Não              |\n",
        "| Cloretos               | Característica | Contínuo   |                           | Não              |\n",
        "| Dióxido de enxofre livre    | Característica | Contínuo   |                           | Não              |\n",
        "| Dióxido de enxofre total   | Característica | Contínuo   |                           | Não              |\n",
        "| densidade              | Característica | Contínuo   |                           | Não              |\n",
        "| ph                     | Característica | Contínuo   |                           | Não              |\n",
        "| Sulfatos               | Característica | Contínuo   |                           | Não              |\n",
        "| álcool                 | Característica | Contínuo   |                           | Não              |\n",
        "| qualidade              | Alvo           | Categórico    | escore entre 0 e 10       | Não              |\n",
        "| Cor                    | Característica          | Categórico | vermelho (1) ou branco (0)        | Não              |\n"
      ]
    },
    {
      "cell_type": "markdown",
      "metadata": {
        "id": "clvEX36NFNV8"
      },
      "source": [
        "A primeira parte deste relatório consistirá em uma análise exploratória dos dados, com o objetivo de compreender melhor as 13 variáveis. Serão apresentados detalhes como mínimo, máximo, média, mediana, variância, possíveis outliers, assimetria/simetria e a distribuição de probabilidade de cada variável.\n",
        "\n",
        "Em seguida, avançaremos para a construção de quatro modelos de machine learning, utilizando as seguintes técnicas:\n",
        "\n",
        "1) Arvores de decisão;\n",
        "2) Bayesiano ingenuo;\n",
        "3) Regressão logistica;\n",
        "4) k-vizinhos.\n",
        "  \n",
        "A variável **qualidade** será utilizada como a variável resposta/dependente (y), fornecendo dados sobre a qualidade do vinho, variando de 0 (menor nota) a 10 (maior nota)."
      ]
    },
    {
      "cell_type": "markdown",
      "metadata": {
        "id": "hOtuNMAfFNV9"
      },
      "source": [
        "# Análise Exploratória"
      ]
    },
    {
      "cell_type": "markdown",
      "metadata": {
        "id": "UP6vkE_oFNV9"
      },
      "source": [
        "## Biblioteca utilizadas:\n",
        "\n",
        "1) Pandas -> manipulação de dados;\n",
        "2) numpy -> cálculos estatísticos;\n",
        "3) plotly -> gráficos interrativos;\n",
        "4) matplotlib -> gráficos;\n",
        "5) scipy -> transformação de variável."
      ]
    },
    {
      "cell_type": "code",
      "execution_count": 1,
      "metadata": {
        "id": "e0Rcue9QFNV9"
      },
      "outputs": [],
      "source": [
        "# Instalação das bibliotecas\n",
        "\n",
        "# %pip install pandas\n",
        "\n",
        "# %pip install ucimlrepo\n",
        "\n",
        "# %pip install numpy\n",
        "\n",
        "# %pip install scipy\n",
        "\n",
        "# %pip install matplotlib\n",
        "\n",
        "# %pip install seaborn"
      ]
    },
    {
      "cell_type": "code",
      "execution_count": 2,
      "metadata": {
        "id": "BiQ0Pz44FNV_"
      },
      "outputs": [],
      "source": [
        "# Importação das bibliotecas\n",
        "import pandas as pd\n",
        "\n",
        "import numpy as np\n",
        "\n",
        "from scipy import stats\n",
        "\n",
        "import matplotlib.pyplot as plt\n",
        "\n",
        "import seaborn as sns\n",
        "\n",
        "import warnings"
      ]
    },
    {
      "cell_type": "code",
      "execution_count": 3,
      "metadata": {},
      "outputs": [],
      "source": [
        "# Desativa todos os avisos\n",
        "warnings.filterwarnings(\"ignore\")\n"
      ]
    },
    {
      "cell_type": "code",
      "execution_count": 4,
      "metadata": {
        "id": "p7GFYocOFNV_"
      },
      "outputs": [],
      "source": [
        "# Importando os dados\n",
        "df = pd.read_csv(\n",
        "    \"https://raw.githubusercontent.com/gabrieldadcarvalho/machine_learning/main/wine_quality/wine_quality.csv\",\n",
        "    sep=\";\",\n",
        ")"
      ]
    },
    {
      "cell_type": "code",
      "execution_count": 5,
      "metadata": {
        "id": "mVpoip2hFNWA"
      },
      "outputs": [],
      "source": [
        "# Obtendo as variáveis independentes e dependente\n",
        "x = df.iloc[:, :12]\n",
        "y = df.iloc[:, -1]  # Qualidade vinho"
      ]
    },
    {
      "cell_type": "code",
      "execution_count": 6,
      "metadata": {
        "colab": {
          "base_uri": "https://localhost:8080/",
          "height": 224
        },
        "id": "mJTpIYx_FNWB",
        "outputId": "f203ea4c-8db1-4186-9e6a-6a604136f06b"
      },
      "outputs": [
        {
          "data": {
            "text/html": [
              "<div>\n",
              "<style scoped>\n",
              "    .dataframe tbody tr th:only-of-type {\n",
              "        vertical-align: middle;\n",
              "    }\n",
              "\n",
              "    .dataframe tbody tr th {\n",
              "        vertical-align: top;\n",
              "    }\n",
              "\n",
              "    .dataframe thead th {\n",
              "        text-align: right;\n",
              "    }\n",
              "</style>\n",
              "<table border=\"1\" class=\"dataframe\">\n",
              "  <thead>\n",
              "    <tr style=\"text-align: right;\">\n",
              "      <th></th>\n",
              "      <th>fixed acidity</th>\n",
              "      <th>volatile acidity</th>\n",
              "      <th>citric acid</th>\n",
              "      <th>residual sugar</th>\n",
              "      <th>chlorides</th>\n",
              "      <th>free sulfur dioxide</th>\n",
              "      <th>total sulfur dioxide</th>\n",
              "      <th>density</th>\n",
              "      <th>pH</th>\n",
              "      <th>sulphates</th>\n",
              "      <th>alcohol</th>\n",
              "      <th>color</th>\n",
              "    </tr>\n",
              "  </thead>\n",
              "  <tbody>\n",
              "    <tr>\n",
              "      <th>0</th>\n",
              "      <td>7.4</td>\n",
              "      <td>0.70</td>\n",
              "      <td>0.00</td>\n",
              "      <td>1.9</td>\n",
              "      <td>0.076</td>\n",
              "      <td>11.0</td>\n",
              "      <td>34.0</td>\n",
              "      <td>0.9978</td>\n",
              "      <td>3.51</td>\n",
              "      <td>0.56</td>\n",
              "      <td>9.4</td>\n",
              "      <td>1</td>\n",
              "    </tr>\n",
              "    <tr>\n",
              "      <th>1</th>\n",
              "      <td>7.8</td>\n",
              "      <td>0.88</td>\n",
              "      <td>0.00</td>\n",
              "      <td>2.6</td>\n",
              "      <td>0.098</td>\n",
              "      <td>25.0</td>\n",
              "      <td>67.0</td>\n",
              "      <td>0.9968</td>\n",
              "      <td>3.20</td>\n",
              "      <td>0.68</td>\n",
              "      <td>9.8</td>\n",
              "      <td>1</td>\n",
              "    </tr>\n",
              "    <tr>\n",
              "      <th>2</th>\n",
              "      <td>7.8</td>\n",
              "      <td>0.76</td>\n",
              "      <td>0.04</td>\n",
              "      <td>2.3</td>\n",
              "      <td>0.092</td>\n",
              "      <td>15.0</td>\n",
              "      <td>54.0</td>\n",
              "      <td>0.9970</td>\n",
              "      <td>3.26</td>\n",
              "      <td>0.65</td>\n",
              "      <td>9.8</td>\n",
              "      <td>1</td>\n",
              "    </tr>\n",
              "    <tr>\n",
              "      <th>3</th>\n",
              "      <td>11.2</td>\n",
              "      <td>0.28</td>\n",
              "      <td>0.56</td>\n",
              "      <td>1.9</td>\n",
              "      <td>0.075</td>\n",
              "      <td>17.0</td>\n",
              "      <td>60.0</td>\n",
              "      <td>0.9980</td>\n",
              "      <td>3.16</td>\n",
              "      <td>0.58</td>\n",
              "      <td>9.8</td>\n",
              "      <td>1</td>\n",
              "    </tr>\n",
              "    <tr>\n",
              "      <th>4</th>\n",
              "      <td>7.4</td>\n",
              "      <td>0.70</td>\n",
              "      <td>0.00</td>\n",
              "      <td>1.9</td>\n",
              "      <td>0.076</td>\n",
              "      <td>11.0</td>\n",
              "      <td>34.0</td>\n",
              "      <td>0.9978</td>\n",
              "      <td>3.51</td>\n",
              "      <td>0.56</td>\n",
              "      <td>9.4</td>\n",
              "      <td>1</td>\n",
              "    </tr>\n",
              "  </tbody>\n",
              "</table>\n",
              "</div>"
            ],
            "text/plain": [
              "   fixed acidity  volatile acidity  citric acid  residual sugar  chlorides  \\\n",
              "0            7.4              0.70         0.00             1.9      0.076   \n",
              "1            7.8              0.88         0.00             2.6      0.098   \n",
              "2            7.8              0.76         0.04             2.3      0.092   \n",
              "3           11.2              0.28         0.56             1.9      0.075   \n",
              "4            7.4              0.70         0.00             1.9      0.076   \n",
              "\n",
              "   free sulfur dioxide  total sulfur dioxide  density    pH  sulphates  \\\n",
              "0                 11.0                  34.0   0.9978  3.51       0.56   \n",
              "1                 25.0                  67.0   0.9968  3.20       0.68   \n",
              "2                 15.0                  54.0   0.9970  3.26       0.65   \n",
              "3                 17.0                  60.0   0.9980  3.16       0.58   \n",
              "4                 11.0                  34.0   0.9978  3.51       0.56   \n",
              "\n",
              "  alcohol  color  \n",
              "0     9.4      1  \n",
              "1     9.8      1  \n",
              "2     9.8      1  \n",
              "3     9.8      1  \n",
              "4     9.4      1  "
            ]
          },
          "execution_count": 6,
          "metadata": {},
          "output_type": "execute_result"
        }
      ],
      "source": [
        "# Verificando as 5 primeiras linhas de x e y\n",
        "x.head()"
      ]
    },
    {
      "cell_type": "code",
      "execution_count": 7,
      "metadata": {
        "colab": {
          "base_uri": "https://localhost:8080/"
        },
        "id": "nXf2KktYFNWC",
        "outputId": "68eca214-6b75-47f8-87fa-2ffdee41e071"
      },
      "outputs": [
        {
          "data": {
            "text/plain": [
              "0    5\n",
              "1    5\n",
              "2    5\n",
              "3    6\n",
              "4    5\n",
              "Name: quality, dtype: int64"
            ]
          },
          "execution_count": 7,
          "metadata": {},
          "output_type": "execute_result"
        }
      ],
      "source": [
        "y.head()"
      ]
    },
    {
      "cell_type": "markdown",
      "metadata": {
        "id": "_J79llE7FNWC"
      },
      "source": [
        "## Variáveis Explicativas\n",
        "Vamos realizar uma análise exploratória das variáveis explicativas do conjunto de dados. Abaixo estão as estatísticas descritivas e visualizações para cada variável."
      ]
    },
    {
      "cell_type": "code",
      "execution_count": 8,
      "metadata": {
        "colab": {
          "base_uri": "https://localhost:8080/",
          "height": 318
        },
        "id": "wGED9b2zFNWC",
        "outputId": "786f98bc-d354-40fa-a619-ae92624867c4"
      },
      "outputs": [
        {
          "data": {
            "text/html": [
              "<div>\n",
              "<style scoped>\n",
              "    .dataframe tbody tr th:only-of-type {\n",
              "        vertical-align: middle;\n",
              "    }\n",
              "\n",
              "    .dataframe tbody tr th {\n",
              "        vertical-align: top;\n",
              "    }\n",
              "\n",
              "    .dataframe thead th {\n",
              "        text-align: right;\n",
              "    }\n",
              "</style>\n",
              "<table border=\"1\" class=\"dataframe\">\n",
              "  <thead>\n",
              "    <tr style=\"text-align: right;\">\n",
              "      <th></th>\n",
              "      <th>fixed acidity</th>\n",
              "      <th>volatile acidity</th>\n",
              "      <th>citric acid</th>\n",
              "      <th>residual sugar</th>\n",
              "      <th>chlorides</th>\n",
              "      <th>free sulfur dioxide</th>\n",
              "      <th>total sulfur dioxide</th>\n",
              "      <th>density</th>\n",
              "      <th>pH</th>\n",
              "      <th>sulphates</th>\n",
              "      <th>color</th>\n",
              "    </tr>\n",
              "  </thead>\n",
              "  <tbody>\n",
              "    <tr>\n",
              "      <th>count</th>\n",
              "      <td>6492.0000</td>\n",
              "      <td>6492.0000</td>\n",
              "      <td>6492.0000</td>\n",
              "      <td>6492.0000</td>\n",
              "      <td>6492.0000</td>\n",
              "      <td>6492.0000</td>\n",
              "      <td>6492.0000</td>\n",
              "      <td>6492.0000</td>\n",
              "      <td>6492.0000</td>\n",
              "      <td>6492.0000</td>\n",
              "      <td>6492.0000</td>\n",
              "    </tr>\n",
              "    <tr>\n",
              "      <th>mean</th>\n",
              "      <td>7.2153</td>\n",
              "      <td>0.3397</td>\n",
              "      <td>0.3186</td>\n",
              "      <td>5.4403</td>\n",
              "      <td>0.0560</td>\n",
              "      <td>30.5206</td>\n",
              "      <td>115.7150</td>\n",
              "      <td>1.7114</td>\n",
              "      <td>3.2185</td>\n",
              "      <td>0.5313</td>\n",
              "      <td>0.2463</td>\n",
              "    </tr>\n",
              "    <tr>\n",
              "      <th>std</th>\n",
              "      <td>1.2968</td>\n",
              "      <td>0.1647</td>\n",
              "      <td>0.1454</td>\n",
              "      <td>4.7553</td>\n",
              "      <td>0.0350</td>\n",
              "      <td>17.7518</td>\n",
              "      <td>56.5253</td>\n",
              "      <td>7.6390</td>\n",
              "      <td>0.1608</td>\n",
              "      <td>0.1488</td>\n",
              "      <td>0.4309</td>\n",
              "    </tr>\n",
              "    <tr>\n",
              "      <th>min</th>\n",
              "      <td>3.8000</td>\n",
              "      <td>0.0800</td>\n",
              "      <td>0.0000</td>\n",
              "      <td>0.6000</td>\n",
              "      <td>0.0090</td>\n",
              "      <td>1.0000</td>\n",
              "      <td>6.0000</td>\n",
              "      <td>0.9871</td>\n",
              "      <td>2.7200</td>\n",
              "      <td>0.2200</td>\n",
              "      <td>0.0000</td>\n",
              "    </tr>\n",
              "    <tr>\n",
              "      <th>25%</th>\n",
              "      <td>6.4000</td>\n",
              "      <td>0.2300</td>\n",
              "      <td>0.2500</td>\n",
              "      <td>1.8000</td>\n",
              "      <td>0.0380</td>\n",
              "      <td>17.0000</td>\n",
              "      <td>77.0000</td>\n",
              "      <td>0.9923</td>\n",
              "      <td>3.1100</td>\n",
              "      <td>0.4300</td>\n",
              "      <td>0.0000</td>\n",
              "    </tr>\n",
              "    <tr>\n",
              "      <th>50%</th>\n",
              "      <td>7.0000</td>\n",
              "      <td>0.2900</td>\n",
              "      <td>0.3100</td>\n",
              "      <td>3.0000</td>\n",
              "      <td>0.0470</td>\n",
              "      <td>29.0000</td>\n",
              "      <td>118.0000</td>\n",
              "      <td>0.9949</td>\n",
              "      <td>3.2100</td>\n",
              "      <td>0.5100</td>\n",
              "      <td>0.0000</td>\n",
              "    </tr>\n",
              "    <tr>\n",
              "      <th>75%</th>\n",
              "      <td>7.7000</td>\n",
              "      <td>0.4000</td>\n",
              "      <td>0.3900</td>\n",
              "      <td>8.1000</td>\n",
              "      <td>0.0650</td>\n",
              "      <td>41.0000</td>\n",
              "      <td>156.0000</td>\n",
              "      <td>0.9970</td>\n",
              "      <td>3.3200</td>\n",
              "      <td>0.6000</td>\n",
              "      <td>0.0000</td>\n",
              "    </tr>\n",
              "    <tr>\n",
              "      <th>max</th>\n",
              "      <td>15.9000</td>\n",
              "      <td>1.5800</td>\n",
              "      <td>1.6600</td>\n",
              "      <td>65.8000</td>\n",
              "      <td>0.6110</td>\n",
              "      <td>289.0000</td>\n",
              "      <td>440.0000</td>\n",
              "      <td>103.8980</td>\n",
              "      <td>4.0100</td>\n",
              "      <td>2.0000</td>\n",
              "      <td>1.0000</td>\n",
              "    </tr>\n",
              "  </tbody>\n",
              "</table>\n",
              "</div>"
            ],
            "text/plain": [
              "       fixed acidity  volatile acidity  citric acid  residual sugar  \\\n",
              "count      6492.0000         6492.0000    6492.0000       6492.0000   \n",
              "mean          7.2153            0.3397       0.3186          5.4403   \n",
              "std           1.2968            0.1647       0.1454          4.7553   \n",
              "min           3.8000            0.0800       0.0000          0.6000   \n",
              "25%           6.4000            0.2300       0.2500          1.8000   \n",
              "50%           7.0000            0.2900       0.3100          3.0000   \n",
              "75%           7.7000            0.4000       0.3900          8.1000   \n",
              "max          15.9000            1.5800       1.6600         65.8000   \n",
              "\n",
              "       chlorides  free sulfur dioxide  total sulfur dioxide   density  \\\n",
              "count  6492.0000            6492.0000             6492.0000 6492.0000   \n",
              "mean      0.0560              30.5206              115.7150    1.7114   \n",
              "std       0.0350              17.7518               56.5253    7.6390   \n",
              "min       0.0090               1.0000                6.0000    0.9871   \n",
              "25%       0.0380              17.0000               77.0000    0.9923   \n",
              "50%       0.0470              29.0000              118.0000    0.9949   \n",
              "75%       0.0650              41.0000              156.0000    0.9970   \n",
              "max       0.6110             289.0000              440.0000  103.8980   \n",
              "\n",
              "             pH  sulphates     color  \n",
              "count 6492.0000  6492.0000 6492.0000  \n",
              "mean     3.2185     0.5313    0.2463  \n",
              "std      0.1608     0.1488    0.4309  \n",
              "min      2.7200     0.2200    0.0000  \n",
              "25%      3.1100     0.4300    0.0000  \n",
              "50%      3.2100     0.5100    0.0000  \n",
              "75%      3.3200     0.6000    0.0000  \n",
              "max      4.0100     2.0000    1.0000  "
            ]
          },
          "execution_count": 8,
          "metadata": {},
          "output_type": "execute_result"
        }
      ],
      "source": [
        "pd.options.display.float_format = \"{:.4f}\".format\n",
        "x.describe()"
      ]
    },
    {
      "cell_type": "markdown",
      "metadata": {
        "id": "L9OrozazFNWD"
      },
      "source": [
        "### Dados faltantes\n",
        "\n",
        "Como pode ser visto na descrição das variáveis explicativas, todas elas possuem 4898 observações, portanto nenhuma possui dados faltantes."
      ]
    },
    {
      "cell_type": "markdown",
      "metadata": {
        "id": "y_OkaSYFFNWD"
      },
      "source": [
        "### Acidez Fixa"
      ]
    },
    {
      "cell_type": "code",
      "execution_count": 9,
      "metadata": {},
      "outputs": [
        {
          "data": {
            "text/plain": [
              "count   6492.0000\n",
              "mean       7.2153\n",
              "std        1.2968\n",
              "min        3.8000\n",
              "25%        6.4000\n",
              "50%        7.0000\n",
              "75%        7.7000\n",
              "max       15.9000\n",
              "Name: fixed acidity, dtype: float64"
            ]
          },
          "execution_count": 9,
          "metadata": {},
          "output_type": "execute_result"
        }
      ],
      "source": [
        "x[\"fixed acidity\"].describe()"
      ]
    },
    {
      "cell_type": "code",
      "execution_count": 10,
      "metadata": {},
      "outputs": [
        {
          "data": {
            "text/plain": [
              "0   6.8000\n",
              "Name: fixed acidity, dtype: float64"
            ]
          },
          "execution_count": 10,
          "metadata": {},
          "output_type": "execute_result"
        }
      ],
      "source": [
        "x[\"fixed acidity\"].mode()"
      ]
    },
    {
      "cell_type": "markdown",
      "metadata": {},
      "source": [
        "Ao analisarmos em detalhes os dados relativos à acidez fixa, percebemos que a maioria dos vinhos possui uma acidez próxima de 7.22, variando entre 3.8 e 15.9. Este intervalo considerável é acompanhado por um desvio padrão de aproximadamente 1.3, indicando uma dispersão significativa dos valores. Assim, a maioria dos vinhos é encontrada dentro da faixa de acidez entre 5.92 e 8.52.\n",
        "\n",
        "É importante destacar que a média supera tanto a mediana (7) quanto a moda (6.8), sugerindo uma assimetria positiva nos dados.\n",
        "\n",
        "Para explorar eventuais outliers e a natureza da assimetria nos dados, a proposta é utilizar tanto um histograma quanto um boxplot."
      ]
    },
    {
      "cell_type": "code",
      "execution_count": 11,
      "metadata": {
        "colab": {
          "base_uri": "https://localhost:8080/",
          "height": 430
        },
        "id": "Qmp3BGGfFNWE",
        "outputId": "4f63a566-475e-41fa-9404-ac3fe432a282"
      },
      "outputs": [
        {
          "data": {
            "image/png": "[encoded data removed]",
            "text/plain": [
              "<Figure size 1200x600 with 2 Axes>"
            ]
          },
          "metadata": {},
          "output_type": "display_data"
        }
      ],
      "source": [
        "# Criação do grafico histograma para a variável 'fixed acidity'\n",
        "plt.figure(figsize=(12, 6))\n",
        "plt.subplot(1, 2, 1)\n",
        "sns.histplot(x[\"fixed acidity\"], kde=True)\n",
        "plt.subplot(1, 2, 2)\n",
        "sns.boxplot(x[\"fixed acidity\"],  orient='h',    notch=True, showcaps=False,\n",
        "    boxprops={\"facecolor\": (0, .5, .7, .5)},\n",
        "    medianprops={\"color\": \"r\", \"linewidth\": 1})\n",
        "plt.show()"
      ]
    },
    {
      "cell_type": "markdown",
      "metadata": {
        "id": "V1cxU1HQFNWE"
      },
      "source": [
        "A análise do histograma e do boxplot podemos ver a assimetria possitiva mencionada acima, para tratar dos possíveis outliers e a assemetria nos dados mais para frente vamos propor uma transformação na variável."
      ]
    },
    {
      "cell_type": "markdown",
      "metadata": {
        "id": "z6pE6rEbFNWE"
      },
      "source": [
        "### Acidez Volátil"
      ]
    },
    {
      "cell_type": "code",
      "execution_count": 12,
      "metadata": {
        "colab": {
          "base_uri": "https://localhost:8080/"
        },
        "id": "uJQKQeVCFNWF",
        "outputId": "65141a47-4183-49cc-c751-2bb53724b730"
      },
      "outputs": [
        {
          "data": {
            "text/plain": [
              "count   6492.0000\n",
              "mean       0.3397\n",
              "std        0.1647\n",
              "min        0.0800\n",
              "25%        0.2300\n",
              "50%        0.2900\n",
              "75%        0.4000\n",
              "max        1.5800\n",
              "Name: volatile acidity, dtype: float64"
            ]
          },
          "execution_count": 12,
          "metadata": {},
          "output_type": "execute_result"
        }
      ],
      "source": [
        "x[\"volatile acidity\"].describe()"
      ]
    },
    {
      "cell_type": "code",
      "execution_count": 13,
      "metadata": {
        "colab": {
          "base_uri": "https://localhost:8080/"
        },
        "id": "K-3JjutVFNWF",
        "outputId": "3357978a-e15f-4bff-9348-30a3462d5492"
      },
      "outputs": [
        {
          "data": {
            "text/plain": [
              "0   0.2800\n",
              "Name: volatile acidity, dtype: float64"
            ]
          },
          "execution_count": 13,
          "metadata": {},
          "output_type": "execute_result"
        }
      ],
      "source": [
        "# Calculando a moda da acidez fixa\n",
        "moda_acid_v = x[\"volatile acidity\"].mode()\n",
        "moda_acid_v"
      ]
    },
    {
      "cell_type": "markdown",
      "metadata": {},
      "source": [
        "Ao verificar as estatística da acidez volátil, é possível dizer que os vinhos tem uma acidez volátil em torno de 0.34, variando entre 0.08 e 1.58. Entretando, o seu desvio padrão é de 0.165, indicando que a grande parte dos vinhos tem essa acidez entre 0.175 e 0.505.\n",
        "\n",
        "Ainda podemos ver que a média é maior do que a mediana (0.29) e moda (0.28), indicando um assimetria possitiva nos dados."
      ]
    },
    {
      "cell_type": "code",
      "execution_count": 14,
      "metadata": {
        "colab": {
          "base_uri": "https://localhost:8080/",
          "height": 430
        },
        "id": "FHVfA5PpFNWF",
        "outputId": "0e447a1c-8bb2-42a3-fd2c-797d4f4c3d19"
      },
      "outputs": [
        {
          "data": {
            "image/png": "[encoded data removed]",
            "text/plain": [
              "<Figure size 1200x600 with 2 Axes>"
            ]
          },
          "metadata": {},
          "output_type": "display_data"
        }
      ],
      "source": [
        "# Criação do grafico histograma para a variável 'fixed acidity'\n",
        "plt.figure(figsize=(12, 6))\n",
        "plt.subplot(1, 2, 1)\n",
        "sns.histplot(x[\"volatile acidity\"], kde=True)\n",
        "plt.subplot(1, 2, 2)\n",
        "sns.boxplot(x[\"volatile acidity\"],  orient='h',    notch=True, showcaps=False,\n",
        "    boxprops={\"facecolor\": (0, .5, .7, .5)},\n",
        "    medianprops={\"color\": \"r\", \"linewidth\": 1})\n",
        "plt.show()"
      ]
    },
    {
      "cell_type": "markdown",
      "metadata": {
        "id": "Rj_se4VKFNWG"
      },
      "source": [
        "Observando o gráfico de histograma e o boxplot da variável de acidez volátil, podemos ver que essa varíavel possui uma assimetria positiva nos seus dados, afim de melhorar isso ao decorrer da análise vamos propor uma transformação tentar corrigir essa assimetria possitiva."
      ]
    },
    {
      "cell_type": "markdown",
      "metadata": {
        "id": "nbIEk1yuFNWH"
      },
      "source": [
        "### Ácido Cítrico"
      ]
    },
    {
      "cell_type": "code",
      "execution_count": 15,
      "metadata": {
        "colab": {
          "base_uri": "https://localhost:8080/"
        },
        "id": "oLp2feO8FNWH",
        "outputId": "735d1619-b93b-4583-fda8-35c0a6adb337"
      },
      "outputs": [
        {
          "data": {
            "text/plain": [
              "count   6492.0000\n",
              "mean       0.3186\n",
              "std        0.1454\n",
              "min        0.0000\n",
              "25%        0.2500\n",
              "50%        0.3100\n",
              "75%        0.3900\n",
              "max        1.6600\n",
              "Name: citric acid, dtype: float64"
            ]
          },
          "execution_count": 15,
          "metadata": {},
          "output_type": "execute_result"
        }
      ],
      "source": [
        "x[\"citric acid\"].describe()"
      ]
    },
    {
      "cell_type": "code",
      "execution_count": 16,
      "metadata": {},
      "outputs": [
        {
          "data": {
            "text/plain": [
              "0   0.3000\n",
              "Name: citric acid, dtype: float64"
            ]
          },
          "execution_count": 16,
          "metadata": {},
          "output_type": "execute_result"
        }
      ],
      "source": [
        "x[\"citric acid\"].mode()"
      ]
    },
    {
      "cell_type": "markdown",
      "metadata": {
        "id": "7SLSSZ9OFNWI"
      },
      "source": [
        "Ao analisarmos a descrição da variável de ácido cítrico, a média dessa variável é de aproximadamente 0.334, com um desvio padrão de cerca de 0.1454, o que sugere que a maioria dos dados está concentrada no intervalo entre 0.1956 e 0.4864. Também é possivel notar que seus valores variam entre 0 e 1.66.\n",
        "\n",
        "Além disso, a mediana é de 0.31, estando próxima a média mas um pouco menor. Vale ressaltar também que a distância do 1º quartil à mediana é menor do que a do 3º quartil, o que sugere uma assimetria positiva dos dados, com uma concentração maior de observações à esquerda."
      ]
    },
    {
      "cell_type": "code",
      "execution_count": 17,
      "metadata": {
        "colab": {
          "base_uri": "https://localhost:8080/",
          "height": 430
        },
        "id": "-mwz8KH4FNWI",
        "outputId": "b51ae171-d359-40ea-a82a-14a719c35898"
      },
      "outputs": [
        {
          "data": {
            "image/png": "[encoded data removed]",
            "text/plain": [
              "<Figure size 1200x600 with 2 Axes>"
            ]
          },
          "metadata": {},
          "output_type": "display_data"
        }
      ],
      "source": [
        "plt.figure(figsize=(12, 6))\n",
        "plt.subplot(1, 2, 1)\n",
        "sns.histplot(x[\"citric acid\"], kde=True, bins=50)\n",
        "plt.subplot(1, 2, 2)\n",
        "sns.boxplot(x[\"citric acid\"],  orient='h',    notch=True, showcaps=False,\n",
        "    boxprops={\"facecolor\": (0, .5, .7, .5)},\n",
        "    medianprops={\"color\": \"r\", \"linewidth\": 1})\n",
        "plt.show()"
      ]
    },
    {
      "cell_type": "markdown",
      "metadata": {
        "id": "yPkGJqx7FNWJ"
      },
      "source": [
        "Observando o gráfico de histograma e o boxplot, podemos ver que essa varíavel possui uma assimetria positiva nos seus dados. Para melhorar a qualidade da distribuição das variáveis descrita acima, vamos propor uma combinação nessas variáveis."
      ]
    },
    {
      "cell_type": "markdown",
      "metadata": {
        "id": "5Q8SvA6ZFNWJ"
      },
      "source": [
        "### Transformação nas variáveis de acidez\n",
        "\n",
        "Como vimos nos 3 tôpicos acima, as variáveis de acidez possui alguns anomalias nas suas distribuição, contendo muitos outliers que distorcem a sua distribuição. Afim de melhorar isso, foi proposto uma transformação para criar uma nova variável **(total acidity)**. Essa transformação consiste na seguinte combinação:\n",
        "\n",
        "    x['total_acidity'] = (log(x[\"fixed acidity\"] * x[\"volatile acidity\"] + x[\"citric acid\"])) ** (1/1.5)\n"
      ]
    },
    {
      "cell_type": "code",
      "execution_count": 18,
      "metadata": {
        "id": "QTkDBq-wFNWJ"
      },
      "outputs": [],
      "source": [
        "# Criação da nova variável\n",
        "x[\"total_acidity\"] = np.log(\n",
        "    x[\"fixed acidity\"] * x[\"volatile acidity\"] + x[\"citric acid\"]\n",
        ")**(1/1.5)"
      ]
    },
    {
      "cell_type": "code",
      "execution_count": 19,
      "metadata": {
        "colab": {
          "base_uri": "https://localhost:8080/"
        },
        "id": "XLOsv6ZkFNWK",
        "outputId": "b354e0ed-7765-4c61-8b39-5599d0966b73"
      },
      "outputs": [
        {
          "data": {
            "text/plain": [
              "count   6463.0000\n",
              "mean       0.9352\n",
              "std        0.2951\n",
              "min        0.0159\n",
              "25%        0.7359\n",
              "50%        0.9081\n",
              "75%        1.1330\n",
              "max        1.8543\n",
              "Name: total_acidity, dtype: float64"
            ]
          },
          "execution_count": 19,
          "metadata": {},
          "output_type": "execute_result"
        }
      ],
      "source": [
        "# Estatística da nova variável\n",
        "x[\"total_acidity\"].describe()"
      ]
    },
    {
      "cell_type": "markdown",
      "metadata": {
        "id": "NCC2lYg8FNWK"
      },
      "source": [
        "Podemos avaliar as estatísticas descritivas da nova variável para determinar a simetria dos dados. Quando a média se aproxima da mediana e os valores do primeiro e terceiro quartis estão próximos da média mais ou menos um desvio padrão, isso sugere uma distribuição simétrica dos dados. Essa proximidade entre a média e a mediana, juntamente com a distribuição equilibrada em torno dos quartis, indica uma disposição uniforme dos dados ao redor da medida central. Essa simetria é um indicativo valioso, pois sugere que os dados não são excessivamente influenciados por valores extremos e estão distribuídos de maneira mais uniforme."
      ]
    },
    {
      "cell_type": "code",
      "execution_count": 20,
      "metadata": {
        "colab": {
          "base_uri": "https://localhost:8080/",
          "height": 430
        },
        "id": "pvt6tAXHFNWK",
        "outputId": "a50b8c6d-94f5-4ffd-dc43-14abeebb3d9f"
      },
      "outputs": [
        {
          "data": {
            "image/png": "[encoded data removed]",
            "text/plain": [
              "<Figure size 1200x600 with 2 Axes>"
            ]
          },
          "metadata": {},
          "output_type": "display_data"
        }
      ],
      "source": [
        "# Histograma total_acidity\n",
        "plt.figure(figsize=(12, 6))\n",
        "plt.subplot(1, 2, 1)\n",
        "sns.histplot(x[\"total_acidity\"], kde=True, bins=40)\n",
        "plt.subplot(1, 2, 2)\n",
        "sns.boxplot(x[\"total_acidity\"], orient='h',    notch=True, showcaps=False,\n",
        "    boxprops={\"facecolor\": (0, .5, .7, .5)},\n",
        "    medianprops={\"color\": \"r\", \"linewidth\": 1})\n",
        "plt.show()"
      ]
    },
    {
      "cell_type": "markdown",
      "metadata": {
        "id": "owZZVBsTFNWL"
      },
      "source": [
        "Podemos observar que a assimetria nos dados dessa nova variável apresenta uma distribuição mais simétrica. Esse resultado fortalece nossas expectativas e nos fornece uma base sólida para ajustar os modelos de aprendizado de máquina no futuro. Uma distribuição mais simétrica sugere uma representação mais equilibrada dos dados, o que é fundamental para garantir a eficácia e a robustez dos modelos que serão aplicados."
      ]
    },
    {
      "cell_type": "markdown",
      "metadata": {
        "id": "ajAKcgjkFNWL"
      },
      "source": [
        "### Açucar Residual"
      ]
    },
    {
      "cell_type": "code",
      "execution_count": 21,
      "metadata": {
        "colab": {
          "base_uri": "https://localhost:8080/"
        },
        "id": "TuiBlBXVFNWL",
        "outputId": "c6e93948-ea33-4001-88cd-c8cd93386c02"
      },
      "outputs": [
        {
          "data": {
            "text/plain": [
              "count   6492.0000\n",
              "mean       5.4403\n",
              "std        4.7553\n",
              "min        0.6000\n",
              "25%        1.8000\n",
              "50%        3.0000\n",
              "75%        8.1000\n",
              "max       65.8000\n",
              "Name: residual sugar, dtype: float64"
            ]
          },
          "execution_count": 21,
          "metadata": {},
          "output_type": "execute_result"
        }
      ],
      "source": [
        "x[\"residual sugar\"].describe()"
      ]
    },
    {
      "cell_type": "code",
      "execution_count": 22,
      "metadata": {
        "colab": {
          "base_uri": "https://localhost:8080/"
        },
        "id": "IotoQ7wMFNWM",
        "outputId": "b06d0a1b-6f8b-4cc5-c162-9aa72ebb5d7a"
      },
      "outputs": [
        {
          "data": {
            "text/plain": [
              "0   2.0000\n",
              "Name: residual sugar, dtype: float64"
            ]
          },
          "execution_count": 22,
          "metadata": {},
          "output_type": "execute_result"
        }
      ],
      "source": [
        "x[\"residual sugar\"].mode()"
      ]
    },
    {
      "cell_type": "code",
      "execution_count": 23,
      "metadata": {},
      "outputs": [
        {
          "data": {
            "text/plain": [
              "10.2"
            ]
          },
          "execution_count": 23,
          "metadata": {},
          "output_type": "execute_result"
        }
      ],
      "source": [
        "5.44 + 4.76"
      ]
    },
    {
      "cell_type": "markdown",
      "metadata": {
        "id": "lAKbcnBlFNWM"
      },
      "source": [
        "Ao analisar as medidas da variável de açúcar residual, observamos que a média é de aproximadamente 5.44, com um desvio padrão considerável de 4.76. Isso sugere que a maioria dos dados está concentrada em torno do intervalo de 0.68 a 10.02.\n",
        "\n",
        "Além disso, notamos que a moda da variável é de 2, o que é menor do que a mediana e a média. Essa diferença sugere uma assimetria positiva na distribuição dos dados, indicando que há uma maior concentração de valores abaixo da média.\n",
        "\n",
        "Também notamos a presença de uma observação bastante elevada de 65.8. Isso sugere a possibilidade de um erro na coleta dos dados ou de uma observação anômala significativa, o que pode afetar negativamente a análise descritiva. Essa observação atípica tende a aumentar significativamente tanto o desvio padrão quanto a média dos dados, distorcendo a compreensão da distribuição geral.\n",
        "\n",
        "Para uma melhor visualização e compreensão desse outlier, será apresentado um gráfico de box-plot e histograma."
      ]
    },
    {
      "cell_type": "code",
      "execution_count": 24,
      "metadata": {},
      "outputs": [
        {
          "data": {
            "image/png": "[encoded data removed]",
            "text/plain": [
              "<Figure size 1200x600 with 2 Axes>"
            ]
          },
          "metadata": {},
          "output_type": "display_data"
        }
      ],
      "source": [
        "plt.figure(figsize=(12, 6))\n",
        "plt.subplot(1, 2, 1)\n",
        "sns.histplot(x[\"residual sugar\"], kde=True)\n",
        "plt.subplot(1, 2, 2)\n",
        "sns.boxplot(x[\"residual sugar\"], orient='h',    notch=True, showcaps=False,\n",
        "    boxprops={\"facecolor\": (0, .5, .7, .5)},\n",
        "    medianprops={\"color\": \"r\", \"linewidth\": 1})\n",
        "plt.show()"
      ]
    },
    {
      "cell_type": "markdown",
      "metadata": {
        "id": "75nYF7q5FNWN"
      },
      "source": [
        "Podemos observar que a observação com um valor de açúcar residual de 65 é extremamente atípica em comparação com o restante dos dados. Diante disso, podemos propor a remoção dessa observação para avaliar seu impacto nas estatísticas descritivas. Essa abordagem nos permitirá entender melhor como essa observação influencia as medidas de tendência central e dispersão dos dados, ajudando a garantir uma análise mais precisa e confiável."
      ]
    },
    {
      "cell_type": "code",
      "execution_count": 25,
      "metadata": {
        "id": "G7yRPVudFNWN"
      },
      "outputs": [],
      "source": [
        "# Removendo outlier\n",
        "loc_out = x[x[\"residual sugar\"] == 65.8]\n",
        "x_n = x.drop(loc_out.index[0])"
      ]
    },
    {
      "cell_type": "code",
      "execution_count": 26,
      "metadata": {
        "colab": {
          "base_uri": "https://localhost:8080/"
        },
        "id": "nFB124m5FNWN",
        "outputId": "8f93a86c-ac65-4459-fb6a-e68db4f9c3a9"
      },
      "outputs": [
        {
          "data": {
            "text/plain": [
              "count   6492.0000\n",
              "mean       5.4403\n",
              "std        4.7553\n",
              "min        0.6000\n",
              "25%        1.8000\n",
              "50%        3.0000\n",
              "75%        8.1000\n",
              "max       65.8000\n",
              "Name: residual sugar, dtype: float64"
            ]
          },
          "execution_count": 26,
          "metadata": {},
          "output_type": "execute_result"
        }
      ],
      "source": [
        "x[\"residual sugar\"].describe()"
      ]
    },
    {
      "cell_type": "code",
      "execution_count": 27,
      "metadata": {
        "colab": {
          "base_uri": "https://localhost:8080/"
        },
        "id": "8eHgDu-kFNWO",
        "outputId": "e7f5af00-6666-40f2-e005-949602249989"
      },
      "outputs": [
        {
          "data": {
            "text/plain": [
              "count   6491.0000\n",
              "mean       5.4310\n",
              "std        4.6963\n",
              "min        0.6000\n",
              "25%        1.8000\n",
              "50%        3.0000\n",
              "75%        8.1000\n",
              "max       31.6000\n",
              "Name: residual sugar, dtype: float64"
            ]
          },
          "execution_count": 27,
          "metadata": {},
          "output_type": "execute_result"
        }
      ],
      "source": [
        "x_n[\"residual sugar\"].describe()"
      ]
    },
    {
      "cell_type": "markdown",
      "metadata": {
        "id": "_AheimKUFNWO"
      },
      "source": [
        "Após verificar a descrição da variável, constatamos que a remoção do outlier não trouxe uma melhora significativa nos resultados. Portanto, decidimos voltar à modelagem sem a remoção do outlier. Esta decisão é baseada na análise das estatísticas descritivas e nos objetivos específicos do projeto. Continuaremos a modelagem considerando todos os dados disponíveis, mantendo assim a integridade do conjunto de dados original e garantindo uma análise abrangente e robusta.\n",
        "\n",
        "Para uma melhor analise desta variável, vamos verificar o seu histograma, mas já é possível identificar a sua assimetria no boxplot acima."
      ]
    },
    {
      "cell_type": "code",
      "execution_count": null,
      "metadata": {
        "colab": {
          "base_uri": "https://localhost:8080/",
          "height": 430
        },
        "id": "l-2O_hgsFNWO",
        "outputId": "ce9e9802-4df6-4ea6-d36a-a55e3e90bbd6"
      },
      "outputs": [
        {
          "data": {
            "image/png": "[encoded data removed]",
            "text/plain": [
              "<Figure size 640x480 with 1 Axes>"
            ]
          },
          "metadata": {},
          "output_type": "display_data"
        }
      ],
      "source": [
        "sns.histplot(x[\"residual sugar\"], kde=True)\n",
        "plt.show()"
      ]
    },
    {
      "cell_type": "markdown",
      "metadata": {
        "id": "EunTZTBKFNWP"
      },
      "source": [
        "Conforme ilustrado no histograma, a distribuição da variável de açúcar residual exibe características peculiares, com uma notável assimetria à esquerda e uma concentração significativa de dados entre os valores de 1 e 2. Para melhorar essa distribuição vai ser proposto uma transformação nessa variável."
      ]
    },
    {
      "cell_type": "markdown",
      "metadata": {
        "id": "v_CFLvE4FNWP"
      },
      "source": [
        "#### Transformação da tangente seguida do log do quadrado\n",
        "\n",
        "Para aprimorar a distribuição da variável ‘açúcar residual’, propõe-se uma transformação que combina a tangente do valor com o logaritmo do quadrado. Essa abordagem oferece uma alternativa para normalizar os dados e otimizar sua distribuição.\n",
        "\n",
        "      \n",
        "      x['tql_residual_sugar'] = np.log(np.tan((x['residual sugar']))**2"
      ]
    },
    {
      "cell_type": "code",
      "execution_count": 29,
      "metadata": {
        "colab": {
          "base_uri": "https://localhost:8080/",
          "height": 430
        },
        "id": "PKcgXxd5FNWP",
        "outputId": "9a756abe-e96b-4b35-afe4-17d50b5863f3"
      },
      "outputs": [
        {
          "data": {
            "image/png": "[encoded data removed]",
            "text/plain": [
              "<Figure size 640x480 with 1 Axes>"
            ]
          },
          "metadata": {},
          "output_type": "display_data"
        }
      ],
      "source": [
        "plt.hist(np.log(np.tan((x[\"residual sugar\"])) ** 2), bins=40)\n",
        "plt.show()"
      ]
    },
    {
      "cell_type": "code",
      "execution_count": 30,
      "metadata": {
        "colab": {
          "base_uri": "https://localhost:8080/",
          "height": 430
        },
        "id": "lrGkrSGvFNWP",
        "outputId": "606e052f-aa5e-44c4-e14f-aa2bbcc839d5"
      },
      "outputs": [
        {
          "data": {
            "image/png": "[encoded data removed]",
            "text/plain": [
              "<Figure size 640x480 with 1 Axes>"
            ]
          },
          "metadata": {},
          "output_type": "display_data"
        }
      ],
      "source": [
        "plt.boxplot(x=(np.log(np.tan((x[\"residual sugar\"])) ** 2)), vert=False)\n",
        "plt.show()"
      ]
    },
    {
      "cell_type": "markdown",
      "metadata": {
        "id": "SG7GLKkpFNWP"
      },
      "source": [
        "Como evidenciado pelo histograma e pelo boxplot, a distribuição da nova variável transformada demonstra uma melhoria significativa na simetria, assemelhando-se mais à distribuição normal. Isso facilitará o ajuste do nosso modelo. É importante salientar que os modelos serão ajustados tanto para as variáveis transformadas quanto para as originais. Isso nos permitirá comparar e verificar se há uma melhoria no desempenho dos algoritmos."
      ]
    },
    {
      "cell_type": "markdown",
      "metadata": {
        "id": "XBRtjTNNFNWQ"
      },
      "source": [
        "### Cloretos"
      ]
    },
    {
      "cell_type": "code",
      "execution_count": 31,
      "metadata": {
        "colab": {
          "base_uri": "https://localhost:8080/"
        },
        "id": "wol5r8eMFNWQ",
        "outputId": "4d4d5b67-6714-40a6-964b-993a63034a49"
      },
      "outputs": [
        {
          "data": {
            "text/plain": [
              "count   6492.0000\n",
              "mean       0.0560\n",
              "std        0.0350\n",
              "min        0.0090\n",
              "25%        0.0380\n",
              "50%        0.0470\n",
              "75%        0.0650\n",
              "max        0.6110\n",
              "Name: chlorides, dtype: float64"
            ]
          },
          "execution_count": 31,
          "metadata": {},
          "output_type": "execute_result"
        }
      ],
      "source": [
        "x[\"chlorides\"].describe()"
      ]
    },
    {
      "cell_type": "code",
      "execution_count": 32,
      "metadata": {
        "colab": {
          "base_uri": "https://localhost:8080/"
        },
        "id": "sxfxFRE5FNWQ",
        "outputId": "cf44f2e6-827a-4881-8f2c-9d6c63697e4e"
      },
      "outputs": [
        {
          "data": {
            "text/plain": [
              "0   0.0440\n",
              "Name: chlorides, dtype: float64"
            ]
          },
          "execution_count": 32,
          "metadata": {},
          "output_type": "execute_result"
        }
      ],
      "source": [
        "x[\"chlorides\"].mode()"
      ]
    },
    {
      "cell_type": "markdown",
      "metadata": {
        "id": "fcytNaj9FNWQ"
      },
      "source": [
        "Ao analisar as estatísticas da variável que mostra a quantidade de cloretos no vinho, observamos que a média é aproximadamente 0.0458, com um desvio padrão de 0.0218. Isso indica que muitos vinhos estão no intervalo de aproximadamente 0.024 a 0.0676.\n",
        "\n",
        "Além disso, a mediana (0.0430) está próxima da média (0.0458) e do 1º quartil (0.0360), sugerindo uma baixa assimetria nos dados. No entanto, existe uma observação com valor de 0.3460, que está bem distante dos três quartis, representando um valor atípico significativo."
      ]
    },
    {
      "cell_type": "code",
      "execution_count": 33,
      "metadata": {
        "colab": {
          "base_uri": "https://localhost:8080/",
          "height": 430
        },
        "id": "Y7QZgRN_FNWR",
        "outputId": "93ca4ee7-7cb6-4c0d-d9a7-eda4ad596b82"
      },
      "outputs": [
        {
          "data": {
            "image/png": "[encoded data removed]",
            "text/plain": [
              "<Figure size 640x480 with 1 Axes>"
            ]
          },
          "metadata": {},
          "output_type": "display_data"
        }
      ],
      "source": [
        "plt.hist(x[\"chlorides\"], bins=50)\n",
        "plt.show()"
      ]
    },
    {
      "cell_type": "code",
      "execution_count": 34,
      "metadata": {
        "colab": {
          "base_uri": "https://localhost:8080/",
          "height": 430
        },
        "id": "dODkDOWOFNWR",
        "outputId": "1d08f123-eda0-4dbb-c149-96c6092292a4"
      },
      "outputs": [
        {
          "data": {
            "image/png": "[encoded data removed]",
            "text/plain": [
              "<Figure size 640x480 with 1 Axes>"
            ]
          },
          "metadata": {},
          "output_type": "display_data"
        }
      ],
      "source": [
        "sns.boxplot(x[\"chlorides\"], orient='h',    notch=True, showcaps=False,\n",
        "    boxprops={\"facecolor\": (0, .5, .7, .5)},\n",
        "    medianprops={\"color\": \"r\", \"linewidth\": 1})\n",
        "plt.show()"
      ]
    },
    {
      "cell_type": "markdown",
      "metadata": {
        "id": "2lnE1k5bFNWR"
      },
      "source": [
        "Ao verificar o histograma e o boxplot, observamos que há muitas observações dispersas após o valor de 0,071 de cloreto, causando uma assimetria positiva. Vamos aplicar algumas transformações para tentar diminuir a dispersão das observações que estão além do 3º quartil."
      ]
    },
    {
      "cell_type": "markdown",
      "metadata": {
        "id": "tQUeT0AUFNWR"
      },
      "source": []
    },
    {
      "cell_type": "markdown",
      "metadata": {
        "id": "7wOAeZviFNWR"
      },
      "source": [
        "#### Transformação do modolo do logarítimica\n",
        "\n",
        "Para diminuir a assimetria positiva da variável de cloreto, vamos aplicar a transformação logarítmica e depois aplicar o modulo nessa variável. Ao aplicar a transformação do modulo logarítmico, esperamos que a distribuição da variável 'chlorides' se torne mais simétrica, reduzindo a dispersão das observações que estão além do 3º quartil.\n",
        "\n"
      ]
    },
    {
      "cell_type": "code",
      "execution_count": 35,
      "metadata": {
        "id": "LRJYHINVFNWS"
      },
      "outputs": [],
      "source": [
        "x[\"log chlorides\"] = np.log(x[\"chlorides\"]) * -1"
      ]
    },
    {
      "cell_type": "code",
      "execution_count": 36,
      "metadata": {
        "colab": {
          "base_uri": "https://localhost:8080/"
        },
        "id": "IrFb_7N4FNWS",
        "outputId": "cbc77c0b-15e0-4fc9-b970-e0fd823bea07"
      },
      "outputs": [
        {
          "data": {
            "text/plain": [
              "count   6492.0000\n",
              "mean       2.9906\n",
              "std        0.4313\n",
              "min        0.4927\n",
              "25%        2.7334\n",
              "50%        3.0576\n",
              "75%        3.2702\n",
              "max        4.7105\n",
              "Name: log chlorides, dtype: float64"
            ]
          },
          "execution_count": 36,
          "metadata": {},
          "output_type": "execute_result"
        }
      ],
      "source": [
        "x[\"log chlorides\"].describe()"
      ]
    },
    {
      "cell_type": "code",
      "execution_count": 37,
      "metadata": {
        "colab": {
          "base_uri": "https://localhost:8080/",
          "height": 430
        },
        "id": "5bubi2IMFNWS",
        "outputId": "84ce1645-8da0-42c9-c0f9-194f3d69840b"
      },
      "outputs": [
        {
          "data": {
            "image/png": "[encoded data removed]",
            "text/plain": [
              "<Figure size 640x480 with 1 Axes>"
            ]
          },
          "metadata": {},
          "output_type": "display_data"
        }
      ],
      "source": [
        "plt.hist(x[\"log chlorides\"], bins=40)\n",
        "plt.show()"
      ]
    },
    {
      "cell_type": "code",
      "execution_count": 38,
      "metadata": {
        "colab": {
          "base_uri": "https://localhost:8080/",
          "height": 430
        },
        "id": "_6gBH8bNFNWT",
        "outputId": "73799010-c7eb-4019-b159-ad05e8e9353c"
      },
      "outputs": [
        {
          "data": {
            "image/png": "[encoded data removed]",
            "text/plain": [
              "<Figure size 640x480 with 1 Axes>"
            ]
          },
          "metadata": {},
          "output_type": "display_data"
        }
      ],
      "source": [
        "sns.boxplot(x[\"log chlorides\"], orient='h',    notch=True, showcaps=False,\n",
        "    boxprops={\"facecolor\": (0, .5, .7, .5)},\n",
        "    medianprops={\"color\": \"r\", \"linewidth\": 1})\n",
        "plt.show()"
      ]
    },
    {
      "cell_type": "markdown",
      "metadata": {
        "id": "HUErheSKFNWT"
      },
      "source": [
        "Após verificar os gráficos após a transformação, podemos observar que a média está próxima da mediana. Vale ressaltar que, ao somar e subtrair o desvio padrão da média, obtemos valores próximos ao 1º e 3º quartis, indicando uma distribuição mais equilibrada dos dados."
      ]
    },
    {
      "cell_type": "markdown",
      "metadata": {
        "id": "mzx6t8xWFNWT"
      },
      "source": [
        "### Dióxido de Enxofre Livre"
      ]
    },
    {
      "cell_type": "code",
      "execution_count": 39,
      "metadata": {
        "colab": {
          "base_uri": "https://localhost:8080/"
        },
        "id": "p0LpRIzMFNWT",
        "outputId": "3c04f9c2-0a07-456d-da69-55055b60821d"
      },
      "outputs": [
        {
          "data": {
            "text/plain": [
              "count   6492.0000\n",
              "mean      30.5206\n",
              "std       17.7518\n",
              "min        1.0000\n",
              "25%       17.0000\n",
              "50%       29.0000\n",
              "75%       41.0000\n",
              "max      289.0000\n",
              "Name: free sulfur dioxide, dtype: float64"
            ]
          },
          "execution_count": 39,
          "metadata": {},
          "output_type": "execute_result"
        }
      ],
      "source": [
        "x[\"free sulfur dioxide\"].describe()"
      ]
    },
    {
      "cell_type": "code",
      "execution_count": 40,
      "metadata": {
        "colab": {
          "base_uri": "https://localhost:8080/"
        },
        "id": "U0QuICozFNWU",
        "outputId": "9064fe2c-3f20-49d6-f1ca-5e7f1fcb83db"
      },
      "outputs": [
        {
          "data": {
            "text/plain": [
              "0   29.0000\n",
              "Name: free sulfur dioxide, dtype: float64"
            ]
          },
          "execution_count": 40,
          "metadata": {},
          "output_type": "execute_result"
        }
      ],
      "source": [
        "# Moda da variável \"free sulfur dioxide\"\n",
        "x[\"free sulfur dioxide\"].mode()"
      ]
    },
    {
      "cell_type": "markdown",
      "metadata": {
        "id": "iASSZhHfFNWU"
      },
      "source": [
        "A média da quantidade de dióxido de enxofre livre é de aproximadamente 35.31, com um desvio padrão de 17.01. Isso indica que a maioria dos valores está no intervalo de aproximadamente 18.30 a 52.32.\n",
        "\n",
        "Além disso, a média (35.31) é ligeiramente superior à mediana (34.00), sugerindo uma leve assimetria positiva nos dados. A presença de outliers é evidente, pois o valor máximo de 289.00 está bem distante do terceiro quartil (46.00)."
      ]
    },
    {
      "cell_type": "code",
      "execution_count": 41,
      "metadata": {
        "colab": {
          "base_uri": "https://localhost:8080/",
          "height": 451
        },
        "id": "7Zq5cPgQFNWU",
        "outputId": "c3542d25-2979-4bfa-feb8-37559b230233"
      },
      "outputs": [
        {
          "data": {
            "image/png": "[encoded data removed]",
            "text/plain": [
              "<Figure size 640x480 with 1 Axes>"
            ]
          },
          "metadata": {},
          "output_type": "display_data"
        }
      ],
      "source": [
        "plt.hist(x[\"free sulfur dioxide\"], bins=70)\n",
        "plt.xlabel(\"Free Sulfur Dioxide\")\n",
        "plt.show()"
      ]
    },
    {
      "cell_type": "code",
      "execution_count": 42,
      "metadata": {
        "colab": {
          "base_uri": "https://localhost:8080/",
          "height": 449
        },
        "id": "FiZA_WXKFNWV",
        "outputId": "64815943-516d-4c63-9f97-1ac378c991a7"
      },
      "outputs": [
        {
          "data": {
            "image/png": "[encoded data removed]",
            "text/plain": [
              "<Figure size 640x480 with 1 Axes>"
            ]
          },
          "metadata": {},
          "output_type": "display_data"
        }
      ],
      "source": [
        "sns.boxplot(x[\"free sulfur dioxide\"], orient='h',    notch=True, showcaps=False,\n",
        "    boxprops={\"facecolor\": (0, .5, .7, .5)},\n",
        "    medianprops={\"color\": \"r\", \"linewidth\": 1})\n",
        "plt.xlabel(\"Free Sulfur Dioxide\")\n",
        "plt.show()"
      ]
    },
    {
      "cell_type": "markdown",
      "metadata": {
        "id": "NBBVZykhFNWV"
      },
      "source": [
        "Ao verificar o gráfico de histograma e boxplot, podemos ver que a afirma de assimetria possitiva é válida. Portanto, vamos propor alguma transformação para tentar diminuir essa assimetria, afim de melhorar a variabilidade dos dados."
      ]
    },
    {
      "cell_type": "markdown",
      "metadata": {
        "id": "ARlqSl0BFNWV"
      },
      "source": [
        "Para melhorar a assimetria dos dados, vamos propor criar uma nova variavel, ela vai indicar a proporção de dióxido livre em relação ao total, mas antes disso vamos fazer uma análise da variavel de dióxido de enxofre total."
      ]
    },
    {
      "cell_type": "markdown",
      "metadata": {
        "id": "3VeOzHF8FNWV"
      },
      "source": [
        "### Dióxido de Enxofre Total"
      ]
    },
    {
      "cell_type": "code",
      "execution_count": 43,
      "metadata": {
        "colab": {
          "base_uri": "https://localhost:8080/"
        },
        "id": "GPTwKq3tFNWW",
        "outputId": "1f359578-bd62-415e-d359-3e931918c978"
      },
      "outputs": [
        {
          "data": {
            "text/plain": [
              "count   6492.0000\n",
              "mean     115.7150\n",
              "std       56.5253\n",
              "min        6.0000\n",
              "25%       77.0000\n",
              "50%      118.0000\n",
              "75%      156.0000\n",
              "max      440.0000\n",
              "Name: total sulfur dioxide, dtype: float64"
            ]
          },
          "execution_count": 43,
          "metadata": {},
          "output_type": "execute_result"
        }
      ],
      "source": [
        "x[\"total sulfur dioxide\"].describe()"
      ]
    },
    {
      "cell_type": "code",
      "execution_count": 44,
      "metadata": {
        "colab": {
          "base_uri": "https://localhost:8080/"
        },
        "id": "V9lByMXcFNWW",
        "outputId": "f5d00850-78ce-4b65-c772-e2ff5662de7d"
      },
      "outputs": [
        {
          "data": {
            "text/plain": [
              "0   111.0000\n",
              "Name: total sulfur dioxide, dtype: float64"
            ]
          },
          "execution_count": 44,
          "metadata": {},
          "output_type": "execute_result"
        }
      ],
      "source": [
        "x[\"total sulfur dioxide\"].mode()"
      ]
    },
    {
      "cell_type": "markdown",
      "metadata": {
        "id": "tjIkOL-VFNWW"
      },
      "source": [
        "A média de dióxido de enxofre total é de 138.36, com um desvio padrão de aproximadamente 42.50. Isso significa que a maioria dos vinhos possui entre 95.86 e 180.86 de dióxido de enxofre total.\n",
        "\n",
        "Podemos observar possíveis outliers, dados os valores extremos: o mínimo de 9 é bastante distante do primeiro quartil (108), e o máximo de 440 é consideravelmente superior ao terceiro quartil (167).\n",
        "\n",
        "Além disso, a média é ligeiramente maior que a mediana, indicando uma assimetria positiva nos dados. Essa assimetria sugere que há vinhos com níveis de dióxido de enxofre total significativamente acima da média, puxando a média para cima."
      ]
    },
    {
      "cell_type": "code",
      "execution_count": 45,
      "metadata": {
        "colab": {
          "base_uri": "https://localhost:8080/",
          "height": 449
        },
        "id": "DmyWvZ9pFNWW",
        "outputId": "ffa9ece7-b8f9-419f-813e-a76f818382c2"
      },
      "outputs": [
        {
          "data": {
            "image/png": "[encoded data removed]",
            "text/plain": [
              "<Figure size 640x480 with 1 Axes>"
            ]
          },
          "metadata": {},
          "output_type": "display_data"
        }
      ],
      "source": [
        "plt.hist(x[\"total sulfur dioxide\"], bins=70)\n",
        "plt.xlabel(\"total sulfur dioxide\")\n",
        "plt.show()"
      ]
    },
    {
      "cell_type": "code",
      "execution_count": 46,
      "metadata": {
        "colab": {
          "base_uri": "https://localhost:8080/",
          "height": 449
        },
        "id": "HxiRCujAFNWW",
        "outputId": "e5b94867-6aa4-44ca-ccef-8a571d50af6a"
      },
      "outputs": [
        {
          "data": {
            "image/png": "[encoded data removed]",
            "text/plain": [
              "<Figure size 640x480 with 1 Axes>"
            ]
          },
          "metadata": {},
          "output_type": "display_data"
        }
      ],
      "source": [
        "sns.boxplot(x[\"total sulfur dioxide\"], orient='h',    notch=True, showcaps=False,\n",
        "    boxprops={\"facecolor\": (0, .5, .7, .5)},\n",
        "    medianprops={\"color\": \"r\", \"linewidth\": 1})\n",
        "plt.xlabel(\"total sulfur dioxide\")\n",
        "plt.show()"
      ]
    },
    {
      "cell_type": "markdown",
      "metadata": {
        "id": "oRSBZvajFNWX"
      },
      "source": [
        "Ao plotar o histograma e o boxplot do dióxido total, observamos a presença de outliers tanto para valores pequenos quanto para valores grandes, além de uma assimetria positiva. Como mencionado anteriormente, planejamos combinar a variável de dióxido total com a variável de dióxido livre para aprimorar a qualidade da distribuição dos dados de ambas as variáveis"
      ]
    },
    {
      "cell_type": "markdown",
      "metadata": {
        "id": "RaI5GeueFNWX"
      },
      "source": [
        "### Combinação Dióxido de Enxofre Livre e Total\n",
        "\n",
        "Como vimos acima, as variáveis de dióxido possui alguns anomalias nas suas distribuição, contendo outliers que distorcem a sua distribuição. Afim de melhorar isso, foi proposto uma transformação para criar uma nova variável **(proportional free dioxide)**. Essa transformação consiste na seguinte combinação:\n",
        "\n",
        "    x['proporcional_f_dioxido'] = np.sqrt(x['free sulfur dioxide']/x['total sulfur dioxide'])"
      ]
    },
    {
      "cell_type": "code",
      "execution_count": 47,
      "metadata": {
        "id": "7ktiDk2qFNWX"
      },
      "outputs": [],
      "source": [
        "x[\"proporcional_f_dioxido\"] = np.sqrt(\n",
        "    x[\"free sulfur dioxide\"] / x[\"total sulfur dioxide\"]\n",
        ")"
      ]
    },
    {
      "cell_type": "code",
      "execution_count": 48,
      "metadata": {
        "colab": {
          "base_uri": "https://localhost:8080/"
        },
        "id": "2Co0NSWQFNWX",
        "outputId": "b170fd0c-002b-435c-ceb1-a8131da33ff4"
      },
      "outputs": [
        {
          "data": {
            "text/plain": [
              "count   6492.0000\n",
              "mean       0.5230\n",
              "std        0.1150\n",
              "min        0.1508\n",
              "25%        0.4495\n",
              "50%        0.5194\n",
              "75%        0.5907\n",
              "max        0.9258\n",
              "Name: proporcional_f_dioxido, dtype: float64"
            ]
          },
          "execution_count": 48,
          "metadata": {},
          "output_type": "execute_result"
        }
      ],
      "source": [
        "x[\"proporcional_f_dioxido\"].describe()"
      ]
    },
    {
      "cell_type": "code",
      "execution_count": 49,
      "metadata": {
        "colab": {
          "base_uri": "https://localhost:8080/"
        },
        "id": "IkNdRmSgFNWX",
        "outputId": "cbffbd1b-1666-422b-de0f-822e216270b4"
      },
      "outputs": [
        {
          "data": {
            "text/plain": [
              "0   0.5000\n",
              "Name: proporcional_f_dioxido, dtype: float64"
            ]
          },
          "execution_count": 49,
          "metadata": {},
          "output_type": "execute_result"
        }
      ],
      "source": [
        "x[\"proporcional_f_dioxido\"].mode()"
      ]
    },
    {
      "cell_type": "markdown",
      "metadata": {
        "id": "sB2ofWuCFNWY"
      },
      "source": [
        "Após a combinação das variáveis, observamos suas novas medidas, com uma nova média de aproximadamente 0.5 e um desvio padrão de 0.096. Isso indica que a maioria dos vinhos tem uma proporção de dióxido livre, após ser submetida à raiz cúbica, entre 0.404 e 0.596.\n",
        "\n",
        "Também notamos que o valor mínimo de 0.1537 e o máximo de 0.8429 estão bastante distantes do primeiro quartil (0.437) e do terceiro quartil (0.5620), respectivamente. Isso sugere que a transformação não foi capaz de lidar completamente com os outliers. No entanto, é importante ressaltar que a média, mediana e moda estão quase exatamente em 0.5, indicando um ajuste para uma melhor simetria dos dados."
      ]
    },
    {
      "cell_type": "code",
      "execution_count": 50,
      "metadata": {
        "colab": {
          "base_uri": "https://localhost:8080/",
          "height": 430
        },
        "id": "Kr7prU_MFNWY",
        "outputId": "68b521ef-1db1-4af1-9bcd-4edf2b2fc1cd"
      },
      "outputs": [
        {
          "data": {
            "image/png": "[encoded data removed]",
            "text/plain": [
              "<Figure size 640x480 with 1 Axes>"
            ]
          },
          "metadata": {},
          "output_type": "display_data"
        }
      ],
      "source": [
        "plt.hist(x[\"proporcional_f_dioxido\"], bins=70)\n",
        "plt.show()"
      ]
    },
    {
      "cell_type": "code",
      "execution_count": 51,
      "metadata": {
        "colab": {
          "base_uri": "https://localhost:8080/",
          "height": 430
        },
        "id": "tZJzre2hFNWY",
        "outputId": "2ec0b8e1-e006-4d72-f52e-36df98720c44"
      },
      "outputs": [
        {
          "data": {
            "image/png": "[encoded data removed]",
            "text/plain": [
              "<Figure size 640x480 with 1 Axes>"
            ]
          },
          "metadata": {},
          "output_type": "display_data"
        }
      ],
      "source": [
        "sns.boxplot(x[\"proporcional_f_dioxido\"], orient='h',    notch=True, showcaps=False,\n",
        "    boxprops={\"facecolor\": (0, .5, .7, .5)},\n",
        "    medianprops={\"color\": \"r\", \"linewidth\": 1})\n",
        "plt.show()"
      ]
    },
    {
      "cell_type": "markdown",
      "metadata": {
        "id": "A24t3yRHFNWY"
      },
      "source": [
        "Podemos verificar tanto no boxplot quanto no histograma, que a afirmação dos outliers e simetria nos dados se concretizam."
      ]
    },
    {
      "cell_type": "markdown",
      "metadata": {},
      "source": [
        "### Densidade"
      ]
    },
    {
      "cell_type": "code",
      "execution_count": 52,
      "metadata": {},
      "outputs": [
        {
          "data": {
            "text/plain": [
              "count   6492.0000\n",
              "mean       1.7114\n",
              "std        7.6390\n",
              "min        0.9871\n",
              "25%        0.9923\n",
              "50%        0.9949\n",
              "75%        0.9970\n",
              "max      103.8980\n",
              "Name: density, dtype: float64"
            ]
          },
          "execution_count": 52,
          "metadata": {},
          "output_type": "execute_result"
        }
      ],
      "source": [
        "x[\"density\"].describe()"
      ]
    },
    {
      "cell_type": "code",
      "execution_count": 53,
      "metadata": {},
      "outputs": [
        {
          "data": {
            "text/plain": [
              "0   0.9972\n",
              "1   0.9976\n",
              "Name: density, dtype: float64"
            ]
          },
          "execution_count": 53,
          "metadata": {},
          "output_type": "execute_result"
        }
      ],
      "source": [
        "x[\"density\"].mode()"
      ]
    },
    {
      "cell_type": "markdown",
      "metadata": {},
      "source": [
        "Ao analisar as medidas da variável densidade, observamos que a média é de 0,994, com um desvio padrão de 0,003. Isso indica que a maioria dos vinhos tem densidade entre 0,991 e 0,997.\n",
        "\n",
        "Também podemos verificar que o valor máximo é um possível outlier, pois está aproximadamente 14 desvios padrão acima do terceiro quartil. Isso faz com que os gráficos de histograma e boxplot não apresentem uma boa simetria.\n",
        "\n",
        "Vale ressaltar que a média, mediana e moda ficam bem próximas, sugerindo uma possível simetria nos dados."
      ]
    },
    {
      "cell_type": "code",
      "execution_count": 54,
      "metadata": {},
      "outputs": [],
      "source": [
        "sns.histplot(x[\"density\"] , kde=True)\n",
        "plt.show()"
      ]
    },
    {
      "cell_type": "code",
      "execution_count": null,
      "metadata": {},
      "outputs": [
        {
          "data": {
            "image/png": "[encoded data removed]",
            "text/plain": [
              "<Figure size 640x480 with 1 Axes>"
            ]
          },
          "metadata": {},
          "output_type": "display_data"
        }
      ],
      "source": [
        "sns.boxplot(x[\"density\"], orient='h',    notch=True, showcaps=False,\n",
        "    boxprops={\"facecolor\": (0, .5, .7, .5)},\n",
        "    medianprops={\"color\": \"r\", \"linewidth\": 1})\n",
        "plt.show()"
      ]
    },
    {
      "cell_type": "markdown",
      "metadata": {},
      "source": [
        "Diversas transformações foram avaliadas para reduzir o impacto do outlier com densidade de 1.039, mas nenhuma foi bem-sucedida. No entanto, como desejamos utilizar todos os dados disponíveis, adotaremos duas abordagens:\n",
        "\n",
        "Incluir essa observação nos dados de treinamento.\n",
        "Incluir essa observação nos dados de teste.\n",
        "Em seguida, avaliaremos o impacto dessa observação nos resultados dos modelos."
      ]
    },
    {
      "cell_type": "markdown",
      "metadata": {},
      "source": []
    }
  ],
  "metadata": {
    "colab": {
      "provenance": []
    },
    "kernelspec": {
      "display_name": "liga_quant",
      "language": "python",
      "name": "python3"
    },
    "language_info": {
      "codemirror_mode": {
        "name": "ipython",
        "version": 3
      },
      "file_extension": ".py",
      "mimetype": "text/x-python",
      "name": "python",
      "nbconvert_exporter": "python",
      "pygments_lexer": "ipython3",
      "version": "3.12.3"
    }
  },
  "nbformat": 4,
  "nbformat_minor": 0
}
